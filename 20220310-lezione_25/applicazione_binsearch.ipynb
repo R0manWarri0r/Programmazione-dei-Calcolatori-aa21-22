{
 "cells": [
  {
   "cell_type": "code",
   "execution_count": 23,
   "id": "3828d9e6",
   "metadata": {},
   "outputs": [],
   "source": [
    "def bin_search( a, k ):\n",
    "    '''\n",
    "    Restituisce il numero di elementi <= di k in a\n",
    "    Precondizione: a è una lista di elementi ordinati dal più piccolo al\n",
    "        più grande\n",
    "    '''\n",
    "    n = len(a)\n",
    "    lx, rx = 0, n-1\n",
    "    while lx <= rx: # fintanto che lo spazio di ricerca non è vuoto\n",
    "        cx = (lx + rx)//2\n",
    "        if k >= a[cx] and ( cx == n-1 or a[cx+1] > k ):\n",
    "            return cx+1\n",
    "        if k < a[cx]:\n",
    "            rx = cx-1\n",
    "        else: # k > a[cx]\n",
    "            lx = cx+1\n",
    "    return 0"
   ]
  },
  {
   "cell_type": "code",
   "execution_count": 24,
   "id": "126d752a",
   "metadata": {},
   "outputs": [
    {
     "name": "stdout",
     "output_type": "stream",
     "text": [
      "10\n",
      "19\n",
      "3\n",
      "1\n",
      "10\n",
      "0\n"
     ]
    }
   ],
   "source": [
    "a = [ -8, 1, 1, 2, 2, 5, 5, 5, 10, 10, 12, 12, 13, 15, 16, 16, 20, 22, 22 ]\n",
    "print(bin_search(a, 10))\n",
    "print(bin_search(a, 22))\n",
    "print(bin_search(a, 1))\n",
    "print(bin_search(a, -8))\n",
    "print(bin_search(a, 11))\n",
    "print(bin_search(a, -10))"
   ]
  },
  {
   "cell_type": "markdown",
   "id": "d52508d8-2a43-4701-9d2b-42650d17fffb",
   "metadata": {},
   "source": [
    "# Problema\n",
    "\n",
    "Confronto di due liste elemento per elmento"
   ]
  },
  {
   "cell_type": "code",
   "execution_count": 1,
   "id": "258ca762-2261-4518-b07b-f3f52fa85d88",
   "metadata": {},
   "outputs": [
    {
     "name": "stdout",
     "output_type": "stream",
     "text": [
      "False\n"
     ]
    }
   ],
   "source": [
    "a = [1, 4, 7]\n",
    "b = [2, 1, 9]\n",
    "n = len(a)\n",
    "\n",
    "def cmp_list(a, b):\n",
    "    '''\n",
    "    Precondizione: a e b sono due liste numeriche della stessa dimensione\n",
    "    Restituisce True se e solo se a < b elemento per elemento\n",
    "    '''\n",
    "    for i in range(n):\n",
    "        if a[i] >= b[i]:\n",
    "            return False\n",
    "    return True\n",
    "\n",
    "print(cmp_list(a,b))"
   ]
  },
  {
   "cell_type": "markdown",
   "id": "eb1f5ea6-ccb4-44e8-96a9-fa9f7af184d6",
   "metadata": {},
   "source": [
    "Soluzione alternativa, creare una lista di booleani con gli esiti dei confronti."
   ]
  },
  {
   "cell_type": "code",
   "execution_count": 28,
   "id": "0fcffe1e-dadd-4126-9ce4-f4a5179b1e55",
   "metadata": {},
   "outputs": [
    {
     "name": "stdout",
     "output_type": "stream",
     "text": [
      "[True, False, True]\n"
     ]
    }
   ],
   "source": [
    "c = []\n",
    "for i in range(n):\n",
    "    if a[i] >= b[i]:\n",
    "        c.append(False)\n",
    "    else:\n",
    "        c.append(True)\n",
    "print(c)"
   ]
  },
  {
   "cell_type": "markdown",
   "id": "6818e0ce-1c49-42eb-b512-c1dc5a99a44e",
   "metadata": {},
   "source": [
    "## Le funzioni `all` e `any`."
   ]
  },
  {
   "cell_type": "code",
   "execution_count": 29,
   "id": "69c72c0b-6b98-440e-9502-e5cc4de94e4c",
   "metadata": {},
   "outputs": [
    {
     "data": {
      "text/plain": [
       "False"
      ]
     },
     "execution_count": 29,
     "metadata": {},
     "output_type": "execute_result"
    }
   ],
   "source": [
    "all(c)"
   ]
  },
  {
   "cell_type": "code",
   "execution_count": 30,
   "id": "9f9dbdd5",
   "metadata": {},
   "outputs": [
    {
     "data": {
      "text/plain": [
       "True"
      ]
     },
     "execution_count": 30,
     "metadata": {},
     "output_type": "execute_result"
    }
   ],
   "source": [
    "any(c)"
   ]
  },
  {
   "cell_type": "markdown",
   "id": "ac61003b-ede2-4b63-a763-1abe657f024c",
   "metadata": {},
   "source": [
    "## Comprensione di lista"
   ]
  },
  {
   "cell_type": "code",
   "execution_count": 31,
   "id": "ae9a1fa6-04b9-4c2e-aec5-a49c790c9cb0",
   "metadata": {},
   "outputs": [],
   "source": [
    "c = [ x**2 for x in range(10)  ]"
   ]
  },
  {
   "cell_type": "code",
   "execution_count": 32,
   "id": "56936f64",
   "metadata": {},
   "outputs": [
    {
     "name": "stdout",
     "output_type": "stream",
     "text": [
      "[0, 1, 4, 9, 16, 25, 36, 49, 64, 81]\n"
     ]
    }
   ],
   "source": [
    "print(c)"
   ]
  },
  {
   "cell_type": "markdown",
   "id": "ac825147-4a32-41f0-be5a-e229bc48d6be",
   "metadata": {},
   "source": [
    "Soluzione più compatta del problema con `all` e comprensione di lista."
   ]
  },
  {
   "cell_type": "code",
   "execution_count": 34,
   "id": "a6923560-5db1-44fc-9ae7-698d906146ef",
   "metadata": {},
   "outputs": [
    {
     "data": {
      "text/plain": [
       "False"
      ]
     },
     "execution_count": 34,
     "metadata": {},
     "output_type": "execute_result"
    }
   ],
   "source": [
    "all([ a[i] < b[i] for i in range(n) ])"
   ]
  },
  {
   "cell_type": "code",
   "execution_count": null,
   "id": "48b4b23b",
   "metadata": {},
   "outputs": [],
   "source": []
  }
 ],
 "metadata": {
  "kernelspec": {
   "display_name": "Python 3",
   "language": "python",
   "name": "python3"
  },
  "language_info": {
   "codemirror_mode": {
    "name": "ipython",
    "version": 3
   },
   "file_extension": ".py",
   "mimetype": "text/x-python",
   "name": "python",
   "nbconvert_exporter": "python",
   "pygments_lexer": "ipython3",
   "version": "3.8.10"
  }
 },
 "nbformat": 4,
 "nbformat_minor": 5
}
