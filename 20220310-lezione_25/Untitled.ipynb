{
 "cells": [
  {
   "cell_type": "code",
   "execution_count": 2,
   "id": "3141bc21",
   "metadata": {},
   "outputs": [],
   "source": [
    "n = 2**20"
   ]
  },
  {
   "cell_type": "code",
   "execution_count": 23,
   "id": "3828d9e6",
   "metadata": {},
   "outputs": [],
   "source": [
    "def bin_search( a, k ):\n",
    "    '''\n",
    "    Restituisce il numero di elementi <= di k in a\n",
    "    Precondizione: a è una lista di elementi ordinati dal più piccolo al\n",
    "        più grande\n",
    "    '''\n",
    "    n = len(a)\n",
    "    lx, rx = 0, n-1\n",
    "    while lx <= rx: # fintanto che lo spazio di ricerca non è vuoto\n",
    "        cx = (lx + rx)//2\n",
    "        if k >= a[cx] and ( cx == n-1 or a[cx+1] > k ):\n",
    "            return cx+1\n",
    "        if k < a[cx]:\n",
    "            rx = cx-1\n",
    "        else: # k > a[cx]\n",
    "            lx = cx+1\n",
    "    return 0"
   ]
  },
  {
   "cell_type": "code",
   "execution_count": 24,
   "id": "126d752a",
   "metadata": {},
   "outputs": [
    {
     "name": "stdout",
     "output_type": "stream",
     "text": [
      "10\n",
      "19\n",
      "3\n",
      "1\n",
      "10\n",
      "0\n"
     ]
    }
   ],
   "source": [
    "a = [ -8, 1, 1, 2, 2, 5, 5, 5, 10, 10, 12, 12, 13, 15, 16, 16, 20, 22, 22 ]\n",
    "print(bin_search(a, 10))\n",
    "print(bin_search(a, 22))\n",
    "print(bin_search(a, 1))\n",
    "print(bin_search(a, -8))\n",
    "print(bin_search(a, 11))\n",
    "print(bin_search(a, -10))"
   ]
  },
  {
   "cell_type": "code",
   "execution_count": 9,
   "id": "bd43713b",
   "metadata": {},
   "outputs": [
    {
     "data": {
      "text/plain": [
       "18"
      ]
     },
     "execution_count": 9,
     "metadata": {},
     "output_type": "execute_result"
    }
   ],
   "source": [
    "len(a)"
   ]
  },
  {
   "cell_type": "code",
   "execution_count": 26,
   "id": "ef21a73b",
   "metadata": {},
   "outputs": [
    {
     "name": "stdout",
     "output_type": "stream",
     "text": [
      "False\n"
     ]
    }
   ],
   "source": [
    "a = [1, 4, 7]\n",
    "b = [2, 1, 9]\n",
    "n = len(a)\n",
    "\n",
    "def cmp_list(a, b):\n",
    "    for i in range(n):\n",
    "        if a[i] >= b[i]:\n",
    "            return False\n",
    "    return True\n",
    "\n",
    "print(cmp_list(a,b))"
   ]
  },
  {
   "cell_type": "code",
   "execution_count": 28,
   "id": "7ca29430",
   "metadata": {},
   "outputs": [
    {
     "name": "stdout",
     "output_type": "stream",
     "text": [
      "[True, False, True]\n"
     ]
    }
   ],
   "source": [
    "c = []\n",
    "for i in range(n):\n",
    "    if a[i] >= b[i]:\n",
    "        c.append(False)\n",
    "    else:\n",
    "        c.append(True)\n",
    "print(c)"
   ]
  },
  {
   "cell_type": "code",
   "execution_count": 29,
   "id": "b86f3c35",
   "metadata": {},
   "outputs": [
    {
     "data": {
      "text/plain": [
       "False"
      ]
     },
     "execution_count": 29,
     "metadata": {},
     "output_type": "execute_result"
    }
   ],
   "source": [
    "all(c)"
   ]
  },
  {
   "cell_type": "code",
   "execution_count": 30,
   "id": "9f9dbdd5",
   "metadata": {},
   "outputs": [
    {
     "data": {
      "text/plain": [
       "True"
      ]
     },
     "execution_count": 30,
     "metadata": {},
     "output_type": "execute_result"
    }
   ],
   "source": [
    "any(c)"
   ]
  },
  {
   "cell_type": "code",
   "execution_count": 31,
   "id": "b1dec748",
   "metadata": {},
   "outputs": [],
   "source": [
    "c = [ x**2 for x in range(10)  ]"
   ]
  },
  {
   "cell_type": "code",
   "execution_count": 32,
   "id": "56936f64",
   "metadata": {},
   "outputs": [
    {
     "name": "stdout",
     "output_type": "stream",
     "text": [
      "[0, 1, 4, 9, 16, 25, 36, 49, 64, 81]\n"
     ]
    }
   ],
   "source": [
    "print(c)"
   ]
  },
  {
   "cell_type": "code",
   "execution_count": 34,
   "id": "eb9bc0ef",
   "metadata": {},
   "outputs": [
    {
     "data": {
      "text/plain": [
       "False"
      ]
     },
     "execution_count": 34,
     "metadata": {},
     "output_type": "execute_result"
    }
   ],
   "source": [
    "all([ a[i] < b[i] for i in range(n) ])"
   ]
  },
  {
   "cell_type": "code",
   "execution_count": 35,
   "id": "326639b0",
   "metadata": {},
   "outputs": [
    {
     "data": {
      "text/plain": [
       "[True, False, True]"
      ]
     },
     "execution_count": 35,
     "metadata": {},
     "output_type": "execute_result"
    }
   ],
   "source": [
    "[ a[i] < b[i] for i in range(n) ]"
   ]
  },
  {
   "cell_type": "code",
   "execution_count": null,
   "id": "48b4b23b",
   "metadata": {},
   "outputs": [],
   "source": []
  }
 ],
 "metadata": {
  "kernelspec": {
   "display_name": "Python 3 (ipykernel)",
   "language": "python",
   "name": "python3"
  },
  "language_info": {
   "codemirror_mode": {
    "name": "ipython",
    "version": 3
   },
   "file_extension": ".py",
   "mimetype": "text/x-python",
   "name": "python",
   "nbconvert_exporter": "python",
   "pygments_lexer": "ipython3",
   "version": "3.9.5"
  }
 },
 "nbformat": 4,
 "nbformat_minor": 5
}
