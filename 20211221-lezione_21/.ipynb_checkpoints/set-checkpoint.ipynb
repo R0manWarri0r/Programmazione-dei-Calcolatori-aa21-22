{
 "cells": [
  {
   "cell_type": "markdown",
   "id": "489a4873",
   "metadata": {},
   "source": [
    "# Soluzione esercizio\n",
    "\n",
    "Si progetti ed implementi in Python una funzione denominata intersezione che prende in input due liste `a` e `b` e restituisce una terza lista, diciamo `c`, contenente tutti gli elementi che sono sia in `a` che in `b`. La lista `c` non deve avere elementi ripetuti. Dopo aver implementato la funzione se ne calcoli il costo computazionale."
   ]
  },
  {
   "cell_type": "code",
   "execution_count": 1,
   "id": "7e19a8a2",
   "metadata": {},
   "outputs": [],
   "source": [
    "def intersezione( a, b ):\n",
    "    '''\n",
    "    Precondizione: a e b sono liste\n",
    "    Restituisce una nuova lista contenente tutti gli elementi in comune tra a e b, tale lista non elementi\n",
    "        ripetuti\n",
    "    '''\n",
    "    c = []\n",
    "    for x in a:\n",
    "        # x va in c se e solo se x è in b e x non è in c\n",
    "        if x in b and x not in c:  # tempo lineare in |b| + |c| <= 2|b| quindi O(|b|) \n",
    "            c.append(x)   # costo costante\n",
    "            \n",
    "    return c"
   ]
  },
  {
   "cell_type": "code",
   "execution_count": 2,
   "id": "504887f1",
   "metadata": {},
   "outputs": [],
   "source": [
    "a = [2,3,1,4,2,2,1,3,4]\n",
    "b = [3,7,5,2,1,1,7,6]\n",
    "c = intersezione(a, b)"
   ]
  },
  {
   "cell_type": "code",
   "execution_count": 3,
   "id": "58b363b9",
   "metadata": {},
   "outputs": [
    {
     "name": "stdout",
     "output_type": "stream",
     "text": [
      "[2, 3, 1]\n"
     ]
    }
   ],
   "source": [
    "print(c)"
   ]
  },
  {
   "cell_type": "markdown",
   "id": "18df1d12",
   "metadata": {},
   "source": [
    "# Costo computazionale\n",
    "\n",
    "In generale se `a` è una lista\n",
    "\n",
    "    x in a\n",
    "    \n",
    "richiede, nel caso peggiore, `|a|` confronti quindi ha un  costo lineare nella lunghezza della lista.\n",
    "\n",
    "Assumiamo che `|a| = n` e `|b| = m`, il ciclo for viene eseguito `n` volte. Ad ogni iterazione si esegue l'operatore **in** su due liste lunghe al massimo `m`. Il costo dell'operazione **append** è costante, quindi il costo della funzione è `O(nm)`.  Assumendo che `n == m` (caso peggiore) il costo è `O(n**2)`.\n",
    "\n",
    "L'operatore **in*** può essere sostituito da un ciclo **for**, questo è lo schema della soluzione alternativa\n",
    "\n",
    "    c = []\n",
    "    for x in a:\n",
    "        for y in b:\n",
    "            if x == y:   \n",
    "                c.append(x)\n",
    "                break\n",
    "                \n",
    "    # eliminare eventuali doppioni da c\n",
    "    \n",
    "Si osservi che in questo caso il costo computazionale è lo stesso della soluzione precendete. L'istruzione **break** termina il ciclo più interno e quindi ha l'effetto di interrompere la ricerca non appena l'elemento viene trovao.\n",
    "\n",
    "Esempio di  utilizzo del **break**"
   ]
  },
  {
   "cell_type": "code",
   "execution_count": 68,
   "id": "d2c7c0a9",
   "metadata": {},
   "outputs": [
    {
     "name": "stdout",
     "output_type": "stream",
     "text": [
      "si\n"
     ]
    }
   ],
   "source": [
    "a = [1, 3, 3, 4, 5, 4, 5, 4]\n",
    "\n",
    "for x in a:\n",
    "    if x == 4:\n",
    "        print('si')\n",
    "        break"
   ]
  },
  {
   "cell_type": "markdown",
   "id": "042d6258",
   "metadata": {},
   "source": [
    "# La struttura dati Set"
   ]
  },
  {
   "cell_type": "markdown",
   "id": "573eb366",
   "metadata": {},
   "source": [
    "### Creazione"
   ]
  },
  {
   "cell_type": "code",
   "execution_count": 72,
   "id": "dc1c89be",
   "metadata": {},
   "outputs": [],
   "source": [
    "a = { 2,3,1,5 }\n",
    "b = { 0, 6, 3, 1}\n",
    "c = set()   # insieme vuoto"
   ]
  },
  {
   "cell_type": "code",
   "execution_count": 73,
   "id": "0e111ccb",
   "metadata": {},
   "outputs": [
    {
     "name": "stdout",
     "output_type": "stream",
     "text": [
      "<class 'set'>\n",
      "{1, 2, 3, 5} {0, 1, 3, 6} set()\n"
     ]
    }
   ],
   "source": [
    "print(type(a))\n",
    "print(a, b, c)"
   ]
  },
  {
   "cell_type": "markdown",
   "id": "738a6632",
   "metadata": {},
   "source": [
    "Un set può contenere solo elementi di tipo *non mutabile*, quindi sono escluse le liste e i set. "
   ]
  },
  {
   "cell_type": "markdown",
   "id": "473a2e09",
   "metadata": {},
   "source": [
    "### Inserimento"
   ]
  },
  {
   "cell_type": "code",
   "execution_count": 74,
   "id": "7017eb46",
   "metadata": {},
   "outputs": [
    {
     "name": "stdout",
     "output_type": "stream",
     "text": [
      "{1, 2, 3, 4, 5} {0, 1, 'python', 3, 6}\n"
     ]
    }
   ],
   "source": [
    "a.add(4)\n",
    "b.add('python')\n",
    "print(a, b)"
   ]
  },
  {
   "cell_type": "markdown",
   "id": "388699e9",
   "metadata": {},
   "source": [
    "### Cancellazione"
   ]
  },
  {
   "cell_type": "code",
   "execution_count": 75,
   "id": "19653969",
   "metadata": {},
   "outputs": [
    {
     "name": "stdout",
     "output_type": "stream",
     "text": [
      "{1, 2, 4, 5}\n"
     ]
    }
   ],
   "source": [
    "a.remove(3)\n",
    "print(a)"
   ]
  },
  {
   "cell_type": "markdown",
   "id": "036aa200",
   "metadata": {},
   "source": [
    "### Appartenenza"
   ]
  },
  {
   "cell_type": "code",
   "execution_count": 76,
   "id": "f4b08711",
   "metadata": {},
   "outputs": [
    {
     "name": "stdout",
     "output_type": "stream",
     "text": [
      "False\n",
      "True\n"
     ]
    }
   ],
   "source": [
    "print(0 in a)\n",
    "print(6 in b)"
   ]
  },
  {
   "cell_type": "markdown",
   "id": "3255409e",
   "metadata": {},
   "source": [
    "### Unione"
   ]
  },
  {
   "cell_type": "code",
   "execution_count": 82,
   "id": "8aa15f0b",
   "metadata": {},
   "outputs": [
    {
     "name": "stdout",
     "output_type": "stream",
     "text": [
      "{0, 1, 2, 'python', 4, 5, 3, 6} {0, 1, 2, 'python', 4, 5, 3, 6}\n"
     ]
    }
   ],
   "source": [
    "u0 = a | b\n",
    "u1 = a.union(b)\n",
    "\n",
    "print(u0, u1)"
   ]
  },
  {
   "cell_type": "markdown",
   "id": "86e586f6",
   "metadata": {},
   "source": [
    "### Intersezione"
   ]
  },
  {
   "cell_type": "code",
   "execution_count": 83,
   "id": "3bbe0a1e",
   "metadata": {},
   "outputs": [
    {
     "name": "stdout",
     "output_type": "stream",
     "text": [
      "{1} {1}\n"
     ]
    }
   ],
   "source": [
    "i0 = a & b\n",
    "i1 = a.intersection(b)\n",
    "\n",
    "print(i0, i1)"
   ]
  },
  {
   "cell_type": "markdown",
   "id": "e6066984",
   "metadata": {},
   "source": [
    "### Differenza"
   ]
  },
  {
   "cell_type": "code",
   "execution_count": 84,
   "id": "46a86214",
   "metadata": {},
   "outputs": [
    {
     "name": "stdout",
     "output_type": "stream",
     "text": [
      "{2, 4, 5} {2, 4, 5}\n"
     ]
    }
   ],
   "source": [
    "d0 = a-b\n",
    "d1 = a.difference(b)\n",
    "\n",
    "print(d0, d1)"
   ]
  },
  {
   "cell_type": "markdown",
   "id": "0cb4684c",
   "metadata": {},
   "source": [
    "*unione*, *intersezione* e *differenza* restituiscono un nuovo insieme senza modificare quelli di partenza"
   ]
  },
  {
   "cell_type": "code",
   "execution_count": 85,
   "id": "c38c9e18",
   "metadata": {},
   "outputs": [
    {
     "name": "stdout",
     "output_type": "stream",
     "text": [
      "{1, 2, 4, 5} {0, 1, 'python', 3, 6}\n"
     ]
    }
   ],
   "source": [
    "print(a, b)"
   ]
  },
  {
   "cell_type": "markdown",
   "id": "a12e0411",
   "metadata": {},
   "source": [
    "## Costo computazionale delle operazioni su set\n",
    "\n",
    "Sia `n` un intero e siano `a` e `b` siano due **set** di grandezza `O(n)` allora valgono i seguenti costi nel caso medio:\n",
    "\n",
    "* `x in a` ha costo `O(1)`, ovvero costante\n",
    "* `a | b` costa `O(n)`\n",
    "* `a & b` costa `O(n)`\n",
    "* `a - b` costa `O(n)`\n",
    "* `a.add(x)` costa `O(1)`\n",
    "* `a.remove(x)` costa `O(1)`\n",
    "\n",
    "Esempio:"
   ]
  },
  {
   "cell_type": "code",
   "execution_count": 86,
   "id": "a3611160",
   "metadata": {},
   "outputs": [],
   "source": [
    "a = [2,3,1,4,2,2,1,3,4]\n",
    "b = [3,7,5,2,1,1,7,6]\n",
    "\n",
    "a, b = set(a), set(b) # Equivale ad eseguire 2 volte O(n) add\n",
    "c = a & b   # costo O(n)\n",
    "\n",
    "c = list(c) # restituisce la lista dal set, costo O(n)"
   ]
  },
  {
   "cell_type": "markdown",
   "id": "84e346ea",
   "metadata": {},
   "source": [
    "Quindi il costo totale delle operazioni precedenti è `O(n)`"
   ]
  },
  {
   "cell_type": "code",
   "execution_count": null,
   "id": "154c5ea4",
   "metadata": {},
   "outputs": [],
   "source": []
  }
 ],
 "metadata": {
  "kernelspec": {
   "display_name": "Python 3",
   "language": "python",
   "name": "python3"
  },
  "language_info": {
   "codemirror_mode": {
    "name": "ipython",
    "version": 3
   },
   "file_extension": ".py",
   "mimetype": "text/x-python",
   "name": "python",
   "nbconvert_exporter": "python",
   "pygments_lexer": "ipython3",
   "version": "3.9.9"
  }
 },
 "nbformat": 4,
 "nbformat_minor": 5
}
