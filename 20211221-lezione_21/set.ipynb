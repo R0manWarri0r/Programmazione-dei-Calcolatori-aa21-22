{
 "cells": [
  {
   "cell_type": "markdown",
   "id": "b9073d67",
   "metadata": {},
   "source": [
    "# Soluzione esercizio\n",
    "\n",
    "Si progetti ed implementi in Python una funzione denominata intersezione che prende in input due liste `a` e `b` e restituisce una terza lista, diciamo `c`, contenente tutti gli elementi che sono sia in `a` che in `b`. La lista `c` non deve avere elementi ripetuti. Dopo aver implementato la funzione se ne calcoli il costo computazionale."
   ]
  },
  {
   "cell_type": "code",
   "execution_count": 1,
   "id": "73afba02",
   "metadata": {},
   "outputs": [],
   "source": [
    "def intersezione( a, b ):\n",
    "    '''\n",
    "    Precondizione: a e b sono liste\n",
    "    Restituisce una nuova lista contenente tutti gli elementi in comune tra a e b, tale lista non elementi\n",
    "        ripetuti\n",
    "    '''\n",
    "    c = []\n",
    "    for x in a:\n",
    "        # x va in c se e solo se x è in b e x non è in c\n",
    "        if x in b and x not in c:  # tempo lineare in |b| + |c| <= 2|b| quindi O(|b|) \n",
    "            c.append(x)   # costo costante\n",
    "            \n",
    "    return c"
   ]
  },
  {
   "cell_type": "code",
   "execution_count": 2,
   "id": "6e59ac24",
   "metadata": {},
   "outputs": [],
   "source": [
    "a = [2,3,1,4,2,2,1,3,4]\n",
    "b = [3,7,5,2,1,1,7,6]\n",
    "c = intersezione(a, b)"
   ]
  },
  {
   "cell_type": "code",
   "execution_count": 3,
   "id": "f2a9f48b",
   "metadata": {},
   "outputs": [
    {
     "name": "stdout",
     "output_type": "stream",
     "text": [
      "[2, 3, 1]\n"
     ]
    }
   ],
   "source": [
    "print(c)"
   ]
  },
  {
   "cell_type": "markdown",
   "id": "30c2527d",
   "metadata": {},
   "source": [
    "# Costo computazionale\n",
    "\n",
    "In generale se `a` è una lista\n",
    "\n",
    "    x in a\n",
    "    \n",
    "richiede, nel caso peggiore, `|a|` confronti quindi ha un  costo lineare nella lunghezza della lista.\n",
    "\n",
    "Assumiamo che `|a| = n` e `|b| = m`, il ciclo for viene eseguito `n` volte. Ad ogni iterazione si esegue l'operatore **in** su due liste lunghe al massimo `m`. Il costo dell'operazione **append** è costante, quindi il costo della funzione è `O(nm)`.  Assumendo che `n == m` (caso peggiore) il costo è `O(n**2)`.\n",
    "\n",
    "L'operatore **in*** può essere sostituito da un ciclo **for**, questo è lo schema della soluzione alternativa\n",
    "\n",
    "    c = []\n",
    "    for x in a:\n",
    "        for y in b:\n",
    "            if x == y:   \n",
    "                c.append(x)\n",
    "                break\n",
    "                \n",
    "    # eliminare eventuali doppioni da c\n",
    "    \n",
    "Si osservi che in questo caso il costo computazionale è lo stesso della soluzione precendete. L'istruzione **break** termina il ciclo più interno e quindi ha l'effetto di interrompere la ricerca non appena l'elemento viene trovao.\n",
    "\n",
    "Esempio di  utilizzo del **break**"
   ]
  },
  {
   "cell_type": "code",
   "execution_count": 4,
   "id": "9b86595a",
   "metadata": {},
   "outputs": [
    {
     "name": "stdout",
     "output_type": "stream",
     "text": [
      "si\n"
     ]
    }
   ],
   "source": [
    "a = [1, 3, 3, 4, 5, 4, 5, 4]\n",
    "\n",
    "for x in a:\n",
    "    if x == 4:\n",
    "        print('si')\n",
    "        break"
   ]
  },
  {
   "cell_type": "markdown",
   "id": "beb4ad0d",
   "metadata": {},
   "source": [
    "# La struttura dati Set"
   ]
  },
  {
   "cell_type": "markdown",
   "id": "28562b16",
   "metadata": {},
   "source": [
    "### Creazione"
   ]
  },
  {
   "cell_type": "code",
   "execution_count": 5,
   "id": "7f3c9d0d",
   "metadata": {},
   "outputs": [],
   "source": [
    "a = { 2,3,1,5 }\n",
    "b = { 0, 6, 3, 1}\n",
    "c = set()   # insieme vuoto"
   ]
  },
  {
   "cell_type": "code",
   "execution_count": 6,
   "id": "4782c388",
   "metadata": {},
   "outputs": [
    {
     "name": "stdout",
     "output_type": "stream",
     "text": [
      "<class 'set'>\n",
      "{1, 2, 3, 5} {0, 1, 3, 6} set()\n"
     ]
    }
   ],
   "source": [
    "print(type(a))\n",
    "print(a, b, c)"
   ]
  },
  {
   "cell_type": "markdown",
   "id": "cf338258",
   "metadata": {},
   "source": [
    "Un set può contenere solo elementi di tipo *non mutabile*, quindi sono escluse le liste e i set. "
   ]
  },
  {
   "cell_type": "markdown",
   "id": "34901f10",
   "metadata": {},
   "source": [
    "### Inserimento"
   ]
  },
  {
   "cell_type": "code",
   "execution_count": 7,
   "id": "cf377b5e",
   "metadata": {},
   "outputs": [
    {
     "name": "stdout",
     "output_type": "stream",
     "text": [
      "{1, 2, 3, 4, 5} {0, 1, 3, 6, 'python'}\n"
     ]
    }
   ],
   "source": [
    "a.add(4)\n",
    "b.add('python')\n",
    "print(a, b)"
   ]
  },
  {
   "cell_type": "markdown",
   "id": "3bc89983",
   "metadata": {},
   "source": [
    "### Cancellazione"
   ]
  },
  {
   "cell_type": "code",
   "execution_count": 8,
   "id": "a6a9dd81",
   "metadata": {},
   "outputs": [
    {
     "name": "stdout",
     "output_type": "stream",
     "text": [
      "{1, 2, 4, 5}\n"
     ]
    }
   ],
   "source": [
    "a.remove(3)\n",
    "print(a)"
   ]
  },
  {
   "cell_type": "markdown",
   "id": "aba89ac4",
   "metadata": {},
   "source": [
    "### Appartenenza"
   ]
  },
  {
   "cell_type": "code",
   "execution_count": 9,
   "id": "ddc6a676",
   "metadata": {},
   "outputs": [
    {
     "name": "stdout",
     "output_type": "stream",
     "text": [
      "False\n",
      "True\n"
     ]
    }
   ],
   "source": [
    "print(0 in a)\n",
    "print(6 in b)"
   ]
  },
  {
   "cell_type": "markdown",
   "id": "025e39f9",
   "metadata": {},
   "source": [
    "### Unione"
   ]
  },
  {
   "cell_type": "code",
   "execution_count": 10,
   "id": "f83d27ba",
   "metadata": {},
   "outputs": [
    {
     "name": "stdout",
     "output_type": "stream",
     "text": [
      "{0, 1, 2, 3, 4, 5, 6, 'python'} {0, 1, 2, 3, 4, 5, 6, 'python'}\n"
     ]
    }
   ],
   "source": [
    "u0 = a | b\n",
    "u1 = a.union(b)\n",
    "\n",
    "print(u0, u1)"
   ]
  },
  {
   "cell_type": "markdown",
   "id": "257dac9d",
   "metadata": {},
   "source": [
    "### Intersezione"
   ]
  },
  {
   "cell_type": "code",
   "execution_count": 11,
   "id": "314c39c3",
   "metadata": {},
   "outputs": [
    {
     "name": "stdout",
     "output_type": "stream",
     "text": [
      "{1} {1}\n"
     ]
    }
   ],
   "source": [
    "i0 = a & b\n",
    "i1 = a.intersection(b)\n",
    "\n",
    "print(i0, i1)"
   ]
  },
  {
   "cell_type": "markdown",
   "id": "2a0a7e05",
   "metadata": {},
   "source": [
    "### Differenza"
   ]
  },
  {
   "cell_type": "code",
   "execution_count": 12,
   "id": "da3a3f13",
   "metadata": {},
   "outputs": [
    {
     "name": "stdout",
     "output_type": "stream",
     "text": [
      "{2, 4, 5} {2, 4, 5}\n"
     ]
    }
   ],
   "source": [
    "d0 = a-b\n",
    "d1 = a.difference(b)\n",
    "\n",
    "print(d0, d1)"
   ]
  },
  {
   "cell_type": "markdown",
   "id": "aabe36b0",
   "metadata": {},
   "source": [
    "*unione*, *intersezione* e *differenza* restituiscono un nuovo insieme senza modificare quelli di partenza"
   ]
  },
  {
   "cell_type": "code",
   "execution_count": 13,
   "id": "52759342",
   "metadata": {},
   "outputs": [
    {
     "name": "stdout",
     "output_type": "stream",
     "text": [
      "{1, 2, 4, 5} {0, 1, 3, 6, 'python'}\n"
     ]
    }
   ],
   "source": [
    "print(a, b)"
   ]
  },
  {
   "cell_type": "markdown",
   "id": "3549e876",
   "metadata": {},
   "source": [
    "## Costo computazionale delle operazioni su set\n",
    "\n",
    "Sia `n` un intero e siano `a` e `b` siano due **set** di grandezza `O(n)` allora valgono i seguenti costi nel caso medio:\n",
    "\n",
    "* `x in a` ha costo `O(1)`, ovvero costante\n",
    "* `a | b` costa `O(n)`\n",
    "* `a & b` costa `O(n)`\n",
    "* `a - b` costa `O(n)`\n",
    "* `a.add(x)` costa `O(1)`\n",
    "* `a.remove(x)` costa `O(1)`\n",
    "\n",
    "Esempio:"
   ]
  },
  {
   "cell_type": "code",
   "execution_count": 14,
   "id": "0a48241b",
   "metadata": {},
   "outputs": [],
   "source": [
    "a = [2,3,1,4,2,2,1,3,4]\n",
    "b = [3,7,5,2,1,1,7,6]\n",
    "\n",
    "a, b = set(a), set(b) # Equivale ad eseguire 2 volte O(n) add\n",
    "c = a & b   # costo O(n)\n",
    "\n",
    "c = list(c) # restituisce la lista dal set, costo O(n)"
   ]
  },
  {
   "cell_type": "markdown",
   "id": "0069b481",
   "metadata": {},
   "source": [
    "Quindi il costo totale delle operazioni precedenti è `O(n)`"
   ]
  },
  {
   "cell_type": "code",
   "execution_count": null,
   "id": "b3bbcc7e",
   "metadata": {},
   "outputs": [],
   "source": []
  }
 ],
 "metadata": {
  "kernelspec": {
   "display_name": "Python 3",
   "language": "python",
   "name": "python3"
  },
  "language_info": {
   "codemirror_mode": {
    "name": "ipython",
    "version": 3
   },
   "file_extension": ".py",
   "mimetype": "text/x-python",
   "name": "python",
   "nbconvert_exporter": "python",
   "pygments_lexer": "ipython3",
   "version": "3.9.9"
  }
 },
 "nbformat": 4,
 "nbformat_minor": 5
}
