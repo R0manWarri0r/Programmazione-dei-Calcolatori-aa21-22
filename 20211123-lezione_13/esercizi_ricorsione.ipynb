{
 "cells": [
  {
   "cell_type": "markdown",
   "metadata": {},
   "source": [
    "# Ricorsione"
   ]
  },
  {
   "cell_type": "markdown",
   "metadata": {},
   "source": [
    "Funzione che restituisce **True** se e solo se la stringa in input è palindroma.\n",
    "\n",
    "*a* è palindroma se e solo se la sua lunghezza è 0 o 1 oppure i suoi estremi sono uguali e la stringa restante è palindroma."
   ]
  },
  {
   "cell_type": "code",
   "execution_count": 2,
   "metadata": {},
   "outputs": [],
   "source": [
    "def pal_ric( a ):\n",
    "    if len(a) in (0, 1):\n",
    "        return True\n",
    "    # len(a) >= 2\n",
    "    return  (a[0] == a[-1]) and pal_ric(a[1:-1])\n"
   ]
  },
  {
   "cell_type": "code",
   "execution_count": 3,
   "metadata": {},
   "outputs": [
    {
     "data": {
      "text/plain": [
       "True"
      ]
     },
     "execution_count": 3,
     "metadata": {},
     "output_type": "execute_result"
    }
   ],
   "source": [
    "pal_ric('abcdcba')"
   ]
  },
  {
   "cell_type": "code",
   "execution_count": 4,
   "metadata": {},
   "outputs": [
    {
     "data": {
      "text/plain": [
       "False"
      ]
     },
     "execution_count": 4,
     "metadata": {},
     "output_type": "execute_result"
    }
   ],
   "source": [
    "pal_ric('abxdcba')"
   ]
  },
  {
   "cell_type": "markdown",
   "metadata": {},
   "source": [
    "## Esercizio"
   ]
  },
  {
   "cell_type": "markdown",
   "metadata": {},
   "source": [
    "Una *tupla numerica annidata* o *tna* è un numero (**int** o **float**) oppure una tupla tale che ogni suo elemento è una *tna*.\n",
    "\n",
    "*Esempio*: \n",
    "> t = ( 3.14, (2,3), (2.71, (7, 5)), 9, (12, ( 4, )) )\n",
    "\n",
    "è una *tna* in quanto *t* è una tupla contenente 3.14 che è un numero, (2,3) che è una *tna* in quanto la tupla (2,3) a sua volta contiene due numeri che sono *tna*...\n",
    "\n",
    "Scrivere una funzione, chiamata *conta_elem_tna*(), che prende in input una *tna* e restituisce il numero totale di *float* ed *int* dentro la *tna*.\n",
    "\n",
    "Ad esempio se *t* è la *tna* definita sopra\n",
    "\n",
    "> conta_elem_tna(t)\n",
    "\n",
    "deve ritornare 9"
   ]
  },
  {
   "cell_type": "code",
   "execution_count": null,
   "metadata": {},
   "outputs": [],
   "source": []
  }
 ],
 "metadata": {
  "kernelspec": {
   "display_name": "Python 3",
   "language": "python",
   "name": "python3"
  },
  "language_info": {
   "codemirror_mode": {
    "name": "ipython",
    "version": 3
   },
   "file_extension": ".py",
   "mimetype": "text/x-python",
   "name": "python",
   "nbconvert_exporter": "python",
   "pygments_lexer": "ipython3",
   "version": "3.9.7"
  }
 },
 "nbformat": 4,
 "nbformat_minor": 4
}
