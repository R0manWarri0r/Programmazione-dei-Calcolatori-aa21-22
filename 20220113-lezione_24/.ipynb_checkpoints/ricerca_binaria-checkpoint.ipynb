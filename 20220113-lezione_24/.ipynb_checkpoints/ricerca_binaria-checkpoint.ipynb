{
 "cells": [
  {
   "cell_type": "markdown",
   "metadata": {},
   "source": [
    "# Ricerca Binaria"
   ]
  },
  {
   "cell_type": "code",
   "execution_count": 1,
   "metadata": {},
   "outputs": [],
   "source": [
    "a = [ 1, 1, 2, 2, 5, 5, 5, 10, 10, 12, 12, 13, 15, 16, 16, 20, 22, 22 ]"
   ]
  },
  {
   "cell_type": "code",
   "execution_count": 2,
   "metadata": {},
   "outputs": [],
   "source": [
    "def bin_search( a, k ):\n",
    "    '''\n",
    "    Ricerca k nella lista a, ritorna la posizione di k in a o -1 se\n",
    "        a non contiene k\n",
    "    Precondizione: a è una lista di elementi ordinati dal più piccolo al\n",
    "        più grande\n",
    "    '''\n",
    "    n = len(a)\n",
    "    lx, rx = 0, n-1\n",
    "    while lx <= rx: # fintanto che lo spazio di ricerca non è vuoto\n",
    "        cx = (lx + rx)//2\n",
    "        if k == a[cx]:\n",
    "            return cx\n",
    "        if k < a[cx]:\n",
    "            rx = cx-1\n",
    "        else: # k > a[cx]\n",
    "            lx = cx+1\n",
    "    return -1"
   ]
  },
  {
   "cell_type": "code",
   "execution_count": 3,
   "metadata": {},
   "outputs": [
    {
     "name": "stdout",
     "output_type": "stream",
     "text": [
      "-1\n",
      "8\n"
     ]
    }
   ],
   "source": [
    "print(bin_search(a, 40))\n",
    "print(bin_search(a, 10))"
   ]
  },
  {
   "cell_type": "markdown",
   "metadata": {},
   "source": [
    "## Problema\n",
    "\n",
    "Data una lista `a` di `n` interi ordinati dal più piccolo al più grande ed un intero `k`, scrivere una funzione che restituisce il numero di elementi in `a` minori o uguali a `k`. Il costo deve essere `O(log n)`."
   ]
  },
  {
   "cell_type": "code",
   "execution_count": null,
   "metadata": {},
   "outputs": [],
   "source": []
  }
 ],
 "metadata": {
  "kernelspec": {
   "display_name": "Python 3",
   "language": "python",
   "name": "python3"
  },
  "language_info": {
   "codemirror_mode": {
    "name": "ipython",
    "version": 3
   },
   "file_extension": ".py",
   "mimetype": "text/x-python",
   "name": "python",
   "nbconvert_exporter": "python",
   "pygments_lexer": "ipython3",
   "version": "3.8.10"
  }
 },
 "nbformat": 4,
 "nbformat_minor": 4
}
