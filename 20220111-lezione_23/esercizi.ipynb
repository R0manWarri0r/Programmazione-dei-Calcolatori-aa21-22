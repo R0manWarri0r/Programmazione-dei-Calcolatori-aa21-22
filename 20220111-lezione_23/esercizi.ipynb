{
 "cells": [
  {
   "cell_type": "markdown",
   "metadata": {
    "tags": []
   },
   "source": [
    "# Esercizio 1"
   ]
  },
  {
   "cell_type": "code",
   "execution_count": 1,
   "metadata": {},
   "outputs": [],
   "source": [
    "a = [ 'uno', 'zero', 'due', 'uno', 'zero', 'tre']"
   ]
  },
  {
   "cell_type": "markdown",
   "metadata": {},
   "source": [
    "Costruiamo un dizionario `d` che avrà per chiavi le stringhe di `a` alle quali corrisponderà una coppia di interi che indicheranno rispettivamente il numero di ovvorrenze della chiave in `a` e la posizione dell'ultima occorrenza."
   ]
  },
  {
   "cell_type": "code",
   "execution_count": 2,
   "metadata": {},
   "outputs": [],
   "source": [
    "d = {} # d[k] = (numero di occorrenze di k in a, la pos. dell'ultima occorrenza)\n",
    "\n",
    "n, i = len(a), 0\n",
    "while i < n:\n",
    "    x = a[i]\n",
    "    \n",
    "    if x not in d:\n",
    "        d[x] = (1, i)\n",
    "    else:\n",
    "        d[x] = (d[x][0] + 1, i) \n",
    "    \n",
    "    i += 1"
   ]
  },
  {
   "cell_type": "code",
   "execution_count": 3,
   "metadata": {},
   "outputs": [
    {
     "name": "stdout",
     "output_type": "stream",
     "text": [
      "{'uno': (2, 3), 'zero': (2, 4), 'due': (1, 2), 'tre': (1, 5)}\n"
     ]
    }
   ],
   "source": [
    "print(d)"
   ]
  },
  {
   "cell_type": "markdown",
   "metadata": {},
   "source": [
    "Poiché sul dizionario le operazioni di verifica dell'esistenza di una chiave, l'aggiornamento, la lettura e l'inserimento hanno costo medio costante, il costo della costruzione di`d` è in media `O(n)`."
   ]
  },
  {
   "cell_type": "code",
   "execution_count": 4,
   "metadata": {},
   "outputs": [
    {
     "name": "stdin",
     "output_type": "stream",
     "text": [
      "inserisci una stringa:  \n"
     ]
    },
    {
     "name": "stdout",
     "output_type": "stream",
     "text": [
      " non compare nella lista\n"
     ]
    },
    {
     "name": "stdin",
     "output_type": "stream",
     "text": [
      "inserisci una stringa:  \n"
     ]
    },
    {
     "name": "stdout",
     "output_type": "stream",
     "text": [
      " non compare nella lista\n"
     ]
    },
    {
     "name": "stdin",
     "output_type": "stream",
     "text": [
      "inserisci una stringa:  12\n"
     ]
    },
    {
     "name": "stdout",
     "output_type": "stream",
     "text": [
      "12 non compare nella lista\n"
     ]
    },
    {
     "name": "stdin",
     "output_type": "stream",
     "text": [
      "inserisci una stringa:  uno\n"
     ]
    },
    {
     "name": "stdout",
     "output_type": "stream",
     "text": [
      "uno compare 2 volte, ultima occorrenza in 3\n"
     ]
    },
    {
     "name": "stdin",
     "output_type": "stream",
     "text": [
      "inserisci una stringa:  due\n"
     ]
    },
    {
     "name": "stdout",
     "output_type": "stream",
     "text": [
      "due compare 1 volte, ultima occorrenza in 2\n"
     ]
    }
   ],
   "source": [
    "m, i = 5, 0\n",
    "\n",
    "while i < m:\n",
    "    x = input('inserisci una stringa: ')\n",
    "    if x in d:\n",
    "        print(f'{x} compare {d[x][0]} volte, ultima occorrenza in {d[x][1]}')\n",
    "    else:\n",
    "        print(f'{x} non compare nella lista')\n",
    "    i += 1"
   ]
  },
  {
   "cell_type": "markdown",
   "metadata": {},
   "source": [
    "Il costo delle `m` interrogazioni è`O(m)` quindi il costo totale è `O(n+m)`."
   ]
  },
  {
   "cell_type": "markdown",
   "metadata": {},
   "source": [
    "# Esercizio 2"
   ]
  },
  {
   "cell_type": "code",
   "execution_count": 5,
   "metadata": {},
   "outputs": [],
   "source": [
    "d = { 'k0': 'v0', 'k1': 'v1', 'k2': 'v0' }"
   ]
  },
  {
   "cell_type": "code",
   "execution_count": 6,
   "metadata": {},
   "outputs": [],
   "source": [
    "def inverti_dizionario( d ):\n",
    "    d_inv = {}\n",
    "    \n",
    "    for k, v in d.items():\n",
    "        # per ogni coppia k, v nel dizionario in input aggiungiamo o\n",
    "        # aggiorniamo d_inv[v]\n",
    "        if v not in d_inv:\n",
    "            d_inv[v] = [k]  # inserimento della nuova chiave v\n",
    "        else:\n",
    "            d_inv[v].append(k) # aggiornamento della lista d_inv[v]\n",
    "            \n",
    "    return d_inv"
   ]
  },
  {
   "cell_type": "code",
   "execution_count": 7,
   "metadata": {},
   "outputs": [],
   "source": [
    "d1 = inverti_dizionario(d)"
   ]
  },
  {
   "cell_type": "code",
   "execution_count": 8,
   "metadata": {},
   "outputs": [
    {
     "name": "stdout",
     "output_type": "stream",
     "text": [
      "{'v0': ['k0', 'k2'], 'v1': ['k1']}\n"
     ]
    }
   ],
   "source": [
    "print(d1)"
   ]
  },
  {
   "cell_type": "markdown",
   "metadata": {},
   "source": [
    "Il costo dell'operazioni in linea 8 è in media costante (inserimento). Il costo della riga 10 è dato dal costo dell'operazione di accesso ad un elemento del dizionario, costo medio `O(1)`, più il costo dell'*append* di un elemento ad una lista, costo medio `O(1)`. Il costo della funzione è pertanto mediamente lineare nella dimensione del dizionario in input."
   ]
  },
  {
   "cell_type": "markdown",
   "metadata": {},
   "source": [
    "# Esercizio 3"
   ]
  },
  {
   "cell_type": "code",
   "execution_count": 9,
   "metadata": {},
   "outputs": [],
   "source": [
    "a = {'k0': 'v0', 'k1': 'v1', 'k2': 'v0'}\n",
    "b = {'k1': 'v7', 'k2': 'v1', 'k3': 'v3'}"
   ]
  },
  {
   "cell_type": "code",
   "execution_count": 10,
   "metadata": {},
   "outputs": [],
   "source": [
    "def differenza_simmetrica(a, b):\n",
    "    c = {}\n",
    "    for k in a:\n",
    "        if k not in b:\n",
    "            c[k] = a[k]\n",
    "            \n",
    "    for k in b:\n",
    "        if k not in a:\n",
    "            c[k] = b[k]\n",
    "            \n",
    "    return c"
   ]
  },
  {
   "cell_type": "code",
   "execution_count": 11,
   "metadata": {},
   "outputs": [],
   "source": [
    "c = differenza_simmetrica(a, b)"
   ]
  },
  {
   "cell_type": "code",
   "execution_count": 12,
   "metadata": {},
   "outputs": [
    {
     "name": "stdout",
     "output_type": "stream",
     "text": [
      "{'k0': 'v0', 'k3': 'v3'}\n"
     ]
    }
   ],
   "source": [
    "print(c)"
   ]
  },
  {
   "cell_type": "markdown",
   "metadata": {},
   "source": [
    "Costo medio `O(|a| +|b|)`"
   ]
  },
  {
   "cell_type": "code",
   "execution_count": null,
   "metadata": {},
   "outputs": [],
   "source": []
  }
 ],
 "metadata": {
  "kernelspec": {
   "display_name": "Python 3",
   "language": "python",
   "name": "python3"
  },
  "language_info": {
   "codemirror_mode": {
    "name": "ipython",
    "version": 3
   },
   "file_extension": ".py",
   "mimetype": "text/x-python",
   "name": "python",
   "nbconvert_exporter": "python",
   "pygments_lexer": "ipython3",
   "version": "3.8.10"
  }
 },
 "nbformat": 4,
 "nbformat_minor": 4
}
