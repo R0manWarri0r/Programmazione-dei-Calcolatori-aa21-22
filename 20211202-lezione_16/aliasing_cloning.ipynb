{
 "cells": [
  {
   "cell_type": "code",
   "execution_count": 1,
   "id": "422c3349",
   "metadata": {},
   "outputs": [],
   "source": [
    "def move_max_new( a ):\n",
    "    '''\n",
    "    pre: a e' una lista di numeri\n",
    "    crea una nuova lista contenente tutti gli\n",
    "    elementi di a, il massimo deve trovarsi in fondo\n",
    "    '''\n",
    "    #a_copy = a[:] # clonazione\n",
    "    a_copy = a #crea un alias\n",
    "    n = len(a_copy)\n",
    "    for i in range(n-1):\n",
    "        # confrontiamo l'elemento in posizione i e i+1\n",
    "        if a_copy[i] > a_copy[i+1]:\n",
    "            # scambio gli elementi\n",
    "            a_copy[i], a_copy[i+1] = \\\n",
    "                a_copy[i+1], a_copy[i]\n",
    "            \n",
    "    return a_copy"
   ]
  },
  {
   "cell_type": "code",
   "execution_count": 2,
   "id": "fab67070",
   "metadata": {},
   "outputs": [],
   "source": [
    "b = [3, 81, 4, 17, 0, 9, 11]"
   ]
  },
  {
   "cell_type": "code",
   "execution_count": 3,
   "id": "8fadf59a",
   "metadata": {},
   "outputs": [],
   "source": [
    "c = move_max_new( b )"
   ]
  },
  {
   "cell_type": "markdown",
   "id": "b2440e47",
   "metadata": {},
   "source": [
    "è vero che c è diverso da b?"
   ]
  },
  {
   "cell_type": "code",
   "execution_count": 4,
   "id": "124f1147",
   "metadata": {},
   "outputs": [
    {
     "name": "stdout",
     "output_type": "stream",
     "text": [
      "[3, 4, 17, 0, 9, 11, 81]\n",
      "[3, 4, 17, 0, 9, 11, 81]\n"
     ]
    }
   ],
   "source": [
    "print(c)\n",
    "print(b)"
   ]
  },
  {
   "cell_type": "markdown",
   "id": "6ec9abfd",
   "metadata": {},
   "source": [
    "Su liste, e in generale su tutti i dati di tipo *mutabile*, l'operazione di assegnamento crea un *alias* e non una copia (o *clone*). Un altro esempio."
   ]
  },
  {
   "cell_type": "code",
   "execution_count": 7,
   "id": "727cad34",
   "metadata": {},
   "outputs": [],
   "source": [
    "a = [0, 'uno', 'due', '3', 4]\n",
    "b = a      # alias\n",
    "c = a[:]   # copia\n",
    "b[1] = 'XXX'"
   ]
  },
  {
   "cell_type": "code",
   "execution_count": 8,
   "id": "b9c8bd4b",
   "metadata": {},
   "outputs": [
    {
     "name": "stdout",
     "output_type": "stream",
     "text": [
      "[0, 'XXX', 'due', '3', 4]\n",
      "[0, 'XXX', 'due', '3', 4]\n",
      "[0, 'uno', 'due', '3', 4]\n"
     ]
    }
   ],
   "source": [
    "print(a)\n",
    "print(b)\n",
    "print(c)"
   ]
  },
  {
   "cell_type": "code",
   "execution_count": null,
   "id": "69e8588c",
   "metadata": {},
   "outputs": [],
   "source": []
  }
 ],
 "metadata": {
  "kernelspec": {
   "display_name": "Python 3",
   "language": "python",
   "name": "python3"
  },
  "language_info": {
   "codemirror_mode": {
    "name": "ipython",
    "version": 3
   },
   "file_extension": ".py",
   "mimetype": "text/x-python",
   "name": "python",
   "nbconvert_exporter": "python",
   "pygments_lexer": "ipython3",
   "version": "3.9.7"
  }
 },
 "nbformat": 4,
 "nbformat_minor": 5
}
