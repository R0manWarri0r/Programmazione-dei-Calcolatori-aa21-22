{
 "cells": [
  {
   "cell_type": "markdown",
   "id": "c319f15d",
   "metadata": {},
   "source": [
    "# Bubble-sort"
   ]
  },
  {
   "cell_type": "code",
   "execution_count": 1,
   "id": "2a79f1b4",
   "metadata": {},
   "outputs": [],
   "source": [
    "def move_max( a ):\n",
    "    '''\n",
    "    pre: a e' una lista di numeri\n",
    "    sposta il massimo di a in fondo alla lista, gli\n",
    "    altri elementi occuperanno le posizioni precedenti\n",
    "    '''\n",
    "    n = len(a)\n",
    "    for i in range(n-1):\n",
    "        # confrontiamo l'elemento in posizione i e i+1\n",
    "        if a[i] > a[i+1]:\n",
    "            # scambio gli elementi\n",
    "            a[i], a[i+1] = a[i+1], a[i]"
   ]
  },
  {
   "cell_type": "code",
   "execution_count": 2,
   "id": "594fde8f",
   "metadata": {},
   "outputs": [],
   "source": [
    "b = [3, 81, 4, 17, 0, 9, 11]"
   ]
  },
  {
   "cell_type": "code",
   "execution_count": 3,
   "id": "fa9e01bc",
   "metadata": {},
   "outputs": [
    {
     "name": "stdout",
     "output_type": "stream",
     "text": [
      "0         [3, 4, 17, 0, 9, 11, 81]\n",
      "1         [3, 4, 0, 9, 11, 17, 81]\n",
      "2         [3, 0, 4, 9, 11, 17, 81]\n",
      "3         [0, 3, 4, 9, 11, 17, 81]\n",
      "4         [0, 3, 4, 9, 11, 17, 81]\n",
      "5         [0, 3, 4, 9, 11, 17, 81]\n",
      "6         [0, 3, 4, 9, 11, 17, 81]\n"
     ]
    }
   ],
   "source": [
    "for i in range(len(b)):\n",
    "    move_max(b)\n",
    "    print(i,'       ', b)"
   ]
  },
  {
   "cell_type": "markdown",
   "id": "5c946900",
   "metadata": {},
   "source": [
    "Sia *n=len(b)*, l'applicazione della funzione *move_max*() per *n-1* volte sulla stessa lista porta all'ordinamento degli elementi della lista dal più piccolo al più grande.\n",
    "\n",
    "Sappiamo che al termine della prima esecuzione, chiamiamola *scansione*, il massimo viene spostato in fondo alla lista. Nella scansione successiva, poiché il massimo si trova già in fondo, verrà spostato verso la fine il massimo tra gli tra tutti gli altri elementi (che occupano le prime *n-1* posizioni); la posizione che raggiungerà questo elemento sarà la penultima della lista in quanto non potrà essere scambiato con il massimo. La posizione di questi due elementi non sarà più modificata. Quindi durante le scansioni possiamo pensare la lista *b* divisa in due parti: una parte composta dagli elementi ancora da posizionare e l'altra composta dagli elementi che hanno raggiunto la loro posizione definitiva (in fondo alla lista). Ad ogni scansione il massimo della prima parte viene spostato in fondo alla prima parte per poi diventare il primo elemento della seconda parte.\n",
    "\n",
    "Ogni scansione sposta nella posizione definitiva almeno un elemento della lista, di conseguenza dopo *n-1* esecuzioni la lista risulterà ordinata (se gli *n-1* elementi più grandi sono nelle ultime posizioni, il minimo dovrà occupare la posizione 0). "
   ]
  },
  {
   "cell_type": "markdown",
   "id": "4c70d995",
   "metadata": {},
   "source": [
    "## Ottimizzazioni"
   ]
  },
  {
   "cell_type": "markdown",
   "id": "fea6da98",
   "metadata": {},
   "source": [
    "Se la lista è composta da *n* elementi, *n-1* è il numero massimo di scansioni richieste per ordinare la lista. Ne potrebbero bastare di meno, basti pensare al caso di una lista già ordinata.\n",
    "\n",
    "La seguente implementazione interrompe le scansioni non appena la lista risulterà ordinata."
   ]
  },
  {
   "cell_type": "code",
   "execution_count": 4,
   "id": "627314b2",
   "metadata": {},
   "outputs": [],
   "source": [
    "def bubble_sort( a ):\n",
    "    '''\n",
    "    pre: a è una lista di numeri\n",
    "    ordina la lista dall'elemento più piccolo a quello più grande\n",
    "    '''\n",
    "    n = len(a)\n",
    "    ordinata = False\n",
    "    num_scansioni = 1\n",
    "    while not ordinata:\n",
    "        ordinata = True\n",
    "        for i in range(n-1):\n",
    "            # confrontiamo l'elemento in posizione i e i+1\n",
    "            if a[i] > a[i+1]:\n",
    "                # scambio gli elementi, non posso dire che la lista è ordinata\n",
    "                a[i], a[i+1] = a[i+1], a[i]\n",
    "                ordinata = False"
   ]
  },
  {
   "cell_type": "markdown",
   "id": "f58cc230",
   "metadata": {},
   "source": [
    "Le scansioni sono eseguite dal ciclo **for** e ne viene eseguita almeno una. Se non vengono eseguiti scambi la lista è ordinata quindi non sono necessarie altre scansioni. In questo caso la variabile *ordinata* mantiene il valore **True** (che gli era stato assegnato prima della scansione) provocando il termine della funzione. Al contrario, se viene eseguito almeno uno scambio *ordinata* diventa **False** e questo indurrà un'altra scansione."
   ]
  },
  {
   "cell_type": "code",
   "execution_count": 5,
   "id": "ebc464ad",
   "metadata": {},
   "outputs": [],
   "source": [
    "b = [9,8,7,6,5,4,3,2,1]"
   ]
  },
  {
   "cell_type": "code",
   "execution_count": 6,
   "id": "043c2649",
   "metadata": {},
   "outputs": [],
   "source": [
    "bubble_sort(b)"
   ]
  },
  {
   "cell_type": "code",
   "execution_count": 7,
   "id": "42210805",
   "metadata": {},
   "outputs": [
    {
     "name": "stdout",
     "output_type": "stream",
     "text": [
      "[1, 2, 3, 4, 5, 6, 7, 8, 9]\n"
     ]
    }
   ],
   "source": [
    "print(b)"
   ]
  },
  {
   "cell_type": "code",
   "execution_count": null,
   "id": "72b259c9",
   "metadata": {},
   "outputs": [],
   "source": []
  }
 ],
 "metadata": {
  "kernelspec": {
   "display_name": "Python 3",
   "language": "python",
   "name": "python3"
  },
  "language_info": {
   "codemirror_mode": {
    "name": "ipython",
    "version": 3
   },
   "file_extension": ".py",
   "mimetype": "text/x-python",
   "name": "python",
   "nbconvert_exporter": "python",
   "pygments_lexer": "ipython3",
   "version": "3.9.7"
  }
 },
 "nbformat": 4,
 "nbformat_minor": 5
}
