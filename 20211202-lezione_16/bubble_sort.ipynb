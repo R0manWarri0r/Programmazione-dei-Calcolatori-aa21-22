{
 "cells": [
  {
   "cell_type": "code",
   "execution_count": 12,
   "id": "8e858e9a",
   "metadata": {},
   "outputs": [],
   "source": [
    "def move_max_new( a ):\n",
    "    '''\n",
    "    pre: a e' una lista di numeri\n",
    "    crea una nuova lista contenente tutti gli\n",
    "    elementi di a, il massimo deve trovarsi in fondo\n",
    "    '''\n",
    "    #a_copy = a[:] # clonazione\n",
    "    a_copy = a #crea un alias\n",
    "    n = len(a_copy)\n",
    "    for i in range(n-1):\n",
    "        # confrontiamo l'elemento in posizione i e i+1\n",
    "        if a_copy[i] > a_copy[i+1]:\n",
    "            # scambio gli elementi\n",
    "            a_copy[i], a_copy[i+1] = \\\n",
    "                a_copy[i+1], a_copy[i]\n",
    "            \n",
    "    return a_copy"
   ]
  },
  {
   "cell_type": "code",
   "execution_count": 13,
   "id": "aa7046a2",
   "metadata": {},
   "outputs": [],
   "source": [
    "b = [3, 81, 4, 17, 0, 9, 11]"
   ]
  },
  {
   "cell_type": "code",
   "execution_count": 14,
   "id": "aa792cef",
   "metadata": {},
   "outputs": [],
   "source": [
    "c = move_max_new( b )"
   ]
  },
  {
   "cell_type": "markdown",
   "id": "02216747",
   "metadata": {},
   "source": [
    "è vero che c è diverso da b?"
   ]
  },
  {
   "cell_type": "code",
   "execution_count": 15,
   "id": "3061a787",
   "metadata": {},
   "outputs": [
    {
     "name": "stdout",
     "output_type": "stream",
     "text": [
      "[3, 4, 17, 0, 9, 11, 81]\n"
     ]
    }
   ],
   "source": [
    "print(c)"
   ]
  },
  {
   "cell_type": "code",
   "execution_count": 16,
   "id": "e5d37969",
   "metadata": {},
   "outputs": [
    {
     "name": "stdout",
     "output_type": "stream",
     "text": [
      "[3, 4, 17, 0, 9, 11, 81]\n"
     ]
    }
   ],
   "source": [
    "print(b)"
   ]
  },
  {
   "cell_type": "code",
   "execution_count": null,
   "id": "2a79f1b4",
   "metadata": {},
   "outputs": [],
   "source": [
    "def move_max( a ):\n",
    "    '''\n",
    "    pre: a e' una lista di numeri\n",
    "    sposta il massimo di a in fondo alla lista, gli\n",
    "    altri elementi occuperanno le posizioni precedenti\n",
    "    '''\n",
    "    n = len(a)\n",
    "    for i in range(n-1):\n",
    "        # confrontiamo l'elemento in posizione i e i+1\n",
    "        if a[i] > a[i+1]:\n",
    "            # scambio gli elementi\n",
    "            a[i], a[i+1] = a[i+1], a[i]"
   ]
  },
  {
   "cell_type": "code",
   "execution_count": 20,
   "id": "594fde8f",
   "metadata": {},
   "outputs": [],
   "source": [
    "b = [3, 81, 4, 17, 0, 9, 11]"
   ]
  },
  {
   "cell_type": "code",
   "execution_count": 22,
   "id": "fa9e01bc",
   "metadata": {},
   "outputs": [
    {
     "data": {
      "text/plain": [
       "[1, 2]"
      ]
     },
     "execution_count": 22,
     "metadata": {},
     "output_type": "execute_result"
    }
   ],
   "source": [
    "for i in range(len(b)):\n",
    "    move_max(b)\n",
    "    print(i,'       ', b)"
   ]
  },
  {
   "cell_type": "markdown",
   "id": "c319f15d",
   "metadata": {},
   "source": [
    "# Bubble-sort"
   ]
  },
  {
   "cell_type": "code",
   "execution_count": 24,
   "id": "627314b2",
   "metadata": {},
   "outputs": [],
   "source": [
    "def bubblesort( a ):\n",
    "    '''\n",
    "    pre: a e' una lista di numeri\n",
    "    ordina la lista dall'elemento più piccolo a quello più grande\n",
    "    '''\n",
    "    n = len(a)\n",
    "    ordinata = False\n",
    "    num_scansioni = 1\n",
    "    while not ordinata:\n",
    "        ordinata = True\n",
    "        for i in range(n-1):\n",
    "            # confrontiamo l'elemento in posizione i e i+1\n",
    "            if a[i] > a[i+1]:\n",
    "                # scambio gli elementi, non posso dire che la lista è ordinata\n",
    "                a[i], a[i+1] = a[i+1], a[i]\n",
    "                ordinata = False"
   ]
  },
  {
   "cell_type": "code",
   "execution_count": 25,
   "id": "ebc464ad",
   "metadata": {},
   "outputs": [],
   "source": [
    "b = [9,8,7,6,5,4,3,2,1]"
   ]
  },
  {
   "cell_type": "code",
   "execution_count": 26,
   "id": "043c2649",
   "metadata": {},
   "outputs": [],
   "source": [
    "bubblesort(b)"
   ]
  },
  {
   "cell_type": "code",
   "execution_count": 27,
   "id": "42210805",
   "metadata": {},
   "outputs": [
    {
     "name": "stdout",
     "output_type": "stream",
     "text": [
      "[1, 2, 3, 4, 5, 6, 7, 8, 9]\n"
     ]
    }
   ],
   "source": [
    "print(b)"
   ]
  },
  {
   "cell_type": "code",
   "execution_count": null,
   "id": "72b259c9",
   "metadata": {},
   "outputs": [],
   "source": []
  }
 ],
 "metadata": {
  "kernelspec": {
   "display_name": "Python 3",
   "language": "python",
   "name": "python3"
  },
  "language_info": {
   "codemirror_mode": {
    "name": "ipython",
    "version": 3
   },
   "file_extension": ".py",
   "mimetype": "text/x-python",
   "name": "python",
   "nbconvert_exporter": "python",
   "pygments_lexer": "ipython3",
   "version": "3.9.7"
  }
 },
 "nbformat": 4,
 "nbformat_minor": 5
}
