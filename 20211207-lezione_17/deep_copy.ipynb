{
 "cells": [
  {
   "cell_type": "markdown",
   "id": "cc09d04e",
   "metadata": {},
   "source": [
    "Esegue una copia profonda di *x*: se *x* è una lista restituisce la lista dei cloni di *x*, altrimenti restituisce *x*."
   ]
  },
  {
   "cell_type": "code",
   "execution_count": 1,
   "id": "3a3f5945",
   "metadata": {},
   "outputs": [],
   "source": [
    "def deep_copy(x):\n",
    "    if type(x) == list:\n",
    "        dc_x = []\n",
    "        for e in x:\n",
    "            dc_x.append( deep_copy(e) )\n",
    "        return dc_x\n",
    "    else:\n",
    "        return x"
   ]
  },
  {
   "cell_type": "code",
   "execution_count": 2,
   "id": "b66cdea0",
   "metadata": {},
   "outputs": [],
   "source": [
    "a = [1, [2, [3, [6, 7] ,4] ] ]"
   ]
  },
  {
   "cell_type": "code",
   "execution_count": 3,
   "id": "1d137707",
   "metadata": {},
   "outputs": [],
   "source": [
    "b = deep_copy(a)"
   ]
  },
  {
   "cell_type": "code",
   "execution_count": 4,
   "id": "5a12ac1d",
   "metadata": {},
   "outputs": [
    {
     "name": "stdout",
     "output_type": "stream",
     "text": [
      "[1, [2, [3, [6, 7], 4]]]\n"
     ]
    }
   ],
   "source": [
    "print(b)"
   ]
  },
  {
   "cell_type": "markdown",
   "id": "6b11bce2",
   "metadata": {},
   "source": [
    "----------------------------------"
   ]
  },
  {
   "cell_type": "markdown",
   "id": "92fdccfa",
   "metadata": {},
   "source": [
    "## La funzione id()"
   ]
  },
  {
   "cell_type": "code",
   "execution_count": 5,
   "id": "8b55b79a",
   "metadata": {},
   "outputs": [
    {
     "data": {
      "text/plain": [
       "[1, [2, [3, [6, 7], 4]]]"
      ]
     },
     "execution_count": 5,
     "metadata": {},
     "output_type": "execute_result"
    }
   ],
   "source": [
    "a"
   ]
  },
  {
   "cell_type": "code",
   "execution_count": 6,
   "id": "9a512ed1",
   "metadata": {},
   "outputs": [
    {
     "data": {
      "text/plain": [
       "140135589149760"
      ]
     },
     "execution_count": 6,
     "metadata": {},
     "output_type": "execute_result"
    }
   ],
   "source": [
    "id(a)"
   ]
  },
  {
   "cell_type": "code",
   "execution_count": 7,
   "id": "dcbdaefa",
   "metadata": {},
   "outputs": [],
   "source": [
    "c = a"
   ]
  },
  {
   "cell_type": "code",
   "execution_count": 8,
   "id": "fa6a0139",
   "metadata": {},
   "outputs": [
    {
     "data": {
      "text/plain": [
       "140135589149760"
      ]
     },
     "execution_count": 8,
     "metadata": {},
     "output_type": "execute_result"
    }
   ],
   "source": [
    "id(c)"
   ]
  },
  {
   "cell_type": "code",
   "execution_count": 9,
   "id": "9efae5cc",
   "metadata": {},
   "outputs": [
    {
     "data": {
      "text/plain": [
       "True"
      ]
     },
     "execution_count": 9,
     "metadata": {},
     "output_type": "execute_result"
    }
   ],
   "source": [
    "id(a) == id(c)"
   ]
  },
  {
   "cell_type": "code",
   "execution_count": 10,
   "id": "6da86864",
   "metadata": {},
   "outputs": [],
   "source": [
    "b = deep_copy(a)"
   ]
  },
  {
   "cell_type": "code",
   "execution_count": 11,
   "id": "273b2e84",
   "metadata": {},
   "outputs": [
    {
     "data": {
      "text/plain": [
       "140135606843712"
      ]
     },
     "execution_count": 11,
     "metadata": {},
     "output_type": "execute_result"
    }
   ],
   "source": [
    "id(b)"
   ]
  },
  {
   "cell_type": "code",
   "execution_count": 12,
   "id": "4196552d",
   "metadata": {},
   "outputs": [],
   "source": [
    "n = 12\n",
    "m = n"
   ]
  },
  {
   "cell_type": "code",
   "execution_count": 13,
   "id": "77f08bb3",
   "metadata": {},
   "outputs": [
    {
     "data": {
      "text/plain": [
       "140135652924048"
      ]
     },
     "execution_count": 13,
     "metadata": {},
     "output_type": "execute_result"
    }
   ],
   "source": [
    "id(n)"
   ]
  },
  {
   "cell_type": "code",
   "execution_count": 14,
   "id": "d6c367dc",
   "metadata": {},
   "outputs": [
    {
     "data": {
      "text/plain": [
       "140135652924048"
      ]
     },
     "execution_count": 14,
     "metadata": {},
     "output_type": "execute_result"
    }
   ],
   "source": [
    "id(m)"
   ]
  },
  {
   "cell_type": "code",
   "execution_count": 15,
   "id": "ca88a81b",
   "metadata": {},
   "outputs": [],
   "source": [
    "n = 13"
   ]
  },
  {
   "cell_type": "code",
   "execution_count": 16,
   "id": "1555a9cf",
   "metadata": {},
   "outputs": [
    {
     "data": {
      "text/plain": [
       "140135652924080"
      ]
     },
     "execution_count": 16,
     "metadata": {},
     "output_type": "execute_result"
    }
   ],
   "source": [
    "id(n)"
   ]
  },
  {
   "cell_type": "code",
   "execution_count": null,
   "id": "4c6f825c",
   "metadata": {},
   "outputs": [],
   "source": []
  }
 ],
 "metadata": {
  "kernelspec": {
   "display_name": "Python 3",
   "language": "python",
   "name": "python3"
  },
  "language_info": {
   "codemirror_mode": {
    "name": "ipython",
    "version": 3
   },
   "file_extension": ".py",
   "mimetype": "text/x-python",
   "name": "python",
   "nbconvert_exporter": "python",
   "pygments_lexer": "ipython3",
   "version": "3.9.7"
  }
 },
 "nbformat": 4,
 "nbformat_minor": 5
}
