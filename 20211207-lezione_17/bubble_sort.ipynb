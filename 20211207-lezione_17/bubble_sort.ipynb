{
 "cells": [
  {
   "cell_type": "markdown",
   "id": "c319f15d",
   "metadata": {},
   "source": [
    "# Bubble-sort"
   ]
  },
  {
   "cell_type": "code",
   "execution_count": 1,
   "id": "627314b2",
   "metadata": {},
   "outputs": [],
   "source": [
    "def bubble_sort( a ):\n",
    "    '''\n",
    "    pre: a è una lista di numeri\n",
    "    ordina la lista dall'elemento più piccolo a quello più grande\n",
    "    '''\n",
    "    n = len(a)\n",
    "    ordinata = False\n",
    "    num_scansioni = 0 # numero di scansioni (esecuzioni for) già eseguite\n",
    "    while not ordinata:\n",
    "        ordinata = True\n",
    "        for i in range(n-1-num_scansioni): # ad ogni iterazione il numero di coppie da\n",
    "                                            # analizzare diminuisce di 1\n",
    "            # confrontiamo l'elemento in posizione i e i+1\n",
    "            if a[i] > a[i+1]:\n",
    "                # scambio gli elementi, non posso dire che la lista è ordinata\n",
    "                a[i], a[i+1] = a[i+1], a[i]\n",
    "                ordinata = False\n",
    "        num_scansioni += 1"
   ]
  },
  {
   "cell_type": "code",
   "execution_count": 2,
   "id": "72b259c9",
   "metadata": {},
   "outputs": [
    {
     "name": "stdout",
     "output_type": "stream",
     "text": [
      "[1, 1, 1, 2, 3, 3, 8]\n"
     ]
    }
   ],
   "source": [
    "b = [1,3,1,8,1,2,3]\n",
    "bubble_sort(b)\n",
    "print(b)"
   ]
  },
  {
   "cell_type": "code",
   "execution_count": 3,
   "id": "c8fe70c2",
   "metadata": {},
   "outputs": [
    {
     "name": "stdout",
     "output_type": "stream",
     "text": [
      "['cinque', 'due', 'quattro', 'sei', 'tre', 'uno', 'zero']\n"
     ]
    }
   ],
   "source": [
    "x = [ 'zero', 'uno', 'due', 'tre', 'quattro', 'cinque', 'sei']\n",
    "bubble_sort(x)\n",
    "print(x)"
   ]
  },
  {
   "cell_type": "markdown",
   "id": "ec49d879",
   "metadata": {},
   "source": [
    "Così com'è è utilizzabile per odinare elementi sui quali è definita l'operazione >"
   ]
  },
  {
   "cell_type": "markdown",
   "id": "3c28c345",
   "metadata": {},
   "source": [
    "Le funzioni sono dati e come tali possono essere utilizzati. Questa versione di bubble_sort utilizza come secondo argomento una funzione che restituisce l'esito del confronto tra due elementi della lista."
   ]
  },
  {
   "cell_type": "code",
   "execution_count": 4,
   "id": "b2838f46",
   "metadata": {},
   "outputs": [],
   "source": [
    "def bubble_sort( a, cmp_func ):\n",
    "    '''\n",
    "    pre: a è una lista di numeri;\n",
    "        cmp_func restituisce l'esito del confronto tra due elementi di a ovvero\n",
    "        restituisce True se e solo se il primo precede il secondo\n",
    "    ordina la lista dall'elemento più piccolo a quello più grande\n",
    "    '''\n",
    "    n = len(a)\n",
    "    ordinata = False\n",
    "    num_scansioni = 0 # numero di scansioni (esecuzioni for) già eseguite\n",
    "    while not ordinata:\n",
    "        ordinata = True\n",
    "        for i in range(n-1-num_scansioni):\n",
    "            # confrontiamo l'elemento in posizione i e i+1\n",
    "            if not cmp_func(a[i], a[i+1]) :\n",
    "                # scambio gli elementi, non posso dire che la lista è ordinata\n",
    "                a[i], a[i+1] = a[i+1], a[i]\n",
    "                ordinata = False\n",
    "        num_scansioni += 1"
   ]
  },
  {
   "cell_type": "markdown",
   "id": "cf601f0a",
   "metadata": {},
   "source": [
    "Esempio di due funzioni di confronto."
   ]
  },
  {
   "cell_type": "code",
   "execution_count": 5,
   "id": "6a58e818",
   "metadata": {},
   "outputs": [],
   "source": [
    "def cmp_len( x, y):\n",
    "    # restituisce l'esito del confronto tra le lunghezze degli argomenti\n",
    "    return len(x) <= len(y)\n",
    "\n",
    "def cmp_val( x, y):\n",
    "     # restituisce l'esito del confronto tra i valori dei argomenti\n",
    "    return x <= y"
   ]
  },
  {
   "cell_type": "markdown",
   "id": "232e469b",
   "metadata": {},
   "source": [
    "Esempi"
   ]
  },
  {
   "cell_type": "code",
   "execution_count": 6,
   "id": "a2296cce",
   "metadata": {},
   "outputs": [
    {
     "name": "stdout",
     "output_type": "stream",
     "text": [
      "['uno', 'due', 'tre', 'sei', 'zero', 'cinque', 'quattro']\n"
     ]
    }
   ],
   "source": [
    "x = [ 'zero', 'uno', 'due', 'tre', 'quattro', 'cinque', 'sei']\n",
    "bubble_sort(x, cmp_len)\n",
    "print(x)"
   ]
  },
  {
   "cell_type": "code",
   "execution_count": 7,
   "id": "a9a6e7e2",
   "metadata": {},
   "outputs": [
    {
     "name": "stdout",
     "output_type": "stream",
     "text": [
      "['cinque', 'due', 'quattro', 'sei', 'tre', 'uno', 'zero']\n"
     ]
    }
   ],
   "source": [
    "x = [ 'zero', 'uno', 'due', 'tre', 'quattro', 'cinque', 'sei']\n",
    "bubble_sort(x, cmp_val)\n",
    "print(x)"
   ]
  },
  {
   "cell_type": "code",
   "execution_count": 8,
   "id": "3079b8f2",
   "metadata": {},
   "outputs": [
    {
     "name": "stdout",
     "output_type": "stream",
     "text": [
      "[1, 1, 1, 2, 3, 3, 8]\n"
     ]
    }
   ],
   "source": [
    "b = [1,3,1,8,1,2,3]\n",
    "bubble_sort(b, cmp_val)\n",
    "print(b)"
   ]
  },
  {
   "cell_type": "code",
   "execution_count": null,
   "id": "a0ccb814",
   "metadata": {},
   "outputs": [],
   "source": []
  }
 ],
 "metadata": {
  "kernelspec": {
   "display_name": "Python 3",
   "language": "python",
   "name": "python3"
  },
  "language_info": {
   "codemirror_mode": {
    "name": "ipython",
    "version": 3
   },
   "file_extension": ".py",
   "mimetype": "text/x-python",
   "name": "python",
   "nbconvert_exporter": "python",
   "pygments_lexer": "ipython3",
   "version": "3.9.7"
  }
 },
 "nbformat": 4,
 "nbformat_minor": 5
}
