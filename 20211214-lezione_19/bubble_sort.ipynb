{
 "cells": [
  {
   "cell_type": "markdown",
   "id": "c319f15d",
   "metadata": {},
   "source": [
    "# Bubble-sort"
   ]
  },
  {
   "cell_type": "markdown",
   "id": "b91c8798",
   "metadata": {},
   "source": [
    "La funzione *k* è una funzione unaria sugli elementi della lista. Il confronto avviene sui valori restituiti da *k*."
   ]
  },
  {
   "cell_type": "code",
   "execution_count": 28,
   "id": "27e85f18",
   "metadata": {},
   "outputs": [],
   "source": [
    "def bubble_sort( a, k = lambda x: x, reverse = False):\n",
    "    '''\n",
    "    pre: a è una lista\n",
    "    ordina gli elementi della lista in modo crescente rispetto ai valodi restituiti \n",
    "        dalla funzione k. Ovvero dopo l'esecuzione della funzine se\n",
    "        a = [a_0, a_1,... a_n] allora k(a_i) <= k(a_i+1) per tutti gli i.\n",
    "        Di default k è la funzione identità \n",
    "        Se reverse è True l'ordinemanto è invertito, di default vale False\n",
    "    '''\n",
    "    \n",
    "    n = len(a)\n",
    "    ordinata = False\n",
    "    num_scansioni = 0 # numero di scansioni (esecuzioni for) già eseguite\n",
    "    while not ordinata:\n",
    "        ordinata = True\n",
    "        for i in range(n-1-num_scansioni): # ad ogni iterazione il numero di coppie da\n",
    "                                            # analizzare diminuisce di 1\n",
    "            # confrontiamo l'elemento in posizione i e i+1\n",
    "            if (reverse == False and k(a[i]) > k(a[i+1]) ) \\\n",
    "                or ( reverse == True and k(a[i]) < k(a[i+1]) ):\n",
    "                # scambio gli elementi, non posso dire che la lista è ordinata\n",
    "                a[i], a[i+1] = a[i+1], a[i]\n",
    "                ordinata = False\n",
    "        num_scansioni += 1"
   ]
  },
  {
   "cell_type": "code",
   "execution_count": 29,
   "id": "36133118",
   "metadata": {},
   "outputs": [
    {
     "name": "stdout",
     "output_type": "stream",
     "text": [
      "['quattro', 'zero', 'uno', 'due', 'tre']\n"
     ]
    }
   ],
   "source": [
    "a = ['zero', 'uno', 'due', 'tre', 'quattro']\n",
    "bubble_sort(a, k = len, reverse = True) # ordinamento per lunghezze crescenti\n",
    "print(a)"
   ]
  },
  {
   "cell_type": "code",
   "execution_count": 19,
   "id": "569da1a9",
   "metadata": {},
   "outputs": [
    {
     "name": "stdout",
     "output_type": "stream",
     "text": [
      "['uno', 'due', 'tre', 'zero', 'quattro']\n"
     ]
    }
   ],
   "source": [
    "a = ['zero', 'uno', 'due', 'tre', 'quattro']\n",
    "bubble_sort(a, k = len) # ordinamento per lunghezze crescenti\n",
    "print(a)"
   ]
  },
  {
   "cell_type": "code",
   "execution_count": 20,
   "id": "4726d83e",
   "metadata": {},
   "outputs": [
    {
     "name": "stdout",
     "output_type": "stream",
     "text": [
      "[(1,), 'due', 'tre', 'zero', 'quattro', [0, 0, 0, 0, 0, 0, 0, 0, 0]]\n"
     ]
    }
   ],
   "source": [
    "a = ['zero', (1,), 'due', 'tre', [0,0,0,0,0,0,0,0,0], 'quattro']\n",
    "bubble_sort(a, k = len) # ordinamento per lunghezze crescenti\n",
    "print(a)"
   ]
  },
  {
   "cell_type": "markdown",
   "id": "0d6e1250",
   "metadata": {},
   "source": [
    "## Soluzione esercizi"
   ]
  },
  {
   "cell_type": "code",
   "execution_count": 30,
   "id": "80cfbb3b",
   "metadata": {},
   "outputs": [],
   "source": [
    "def key_num_str( x ):\n",
    "    '''\n",
    "    Pre: x è una stringa o un numero\n",
    "    '''\n",
    "    if type(x) in (int, float):\n",
    "        return (0, x)\n",
    "    else:\n",
    "        return (1, len(x))"
   ]
  },
  {
   "cell_type": "markdown",
   "id": "e7dd144e",
   "metadata": {},
   "source": [
    "Se *x* e *y* sono numeri\n",
    "\n",
    "    key_num_str(x) > key_num_str(y)\n",
    "    \n",
    "se e solo se *x > y*. Se *x* e *y* sono stringhe\n",
    "\n",
    "    key_num_str(x) > key_num_str(y)\n",
    "\n",
    "se e solo se *len(x) > len(y)*. Se *x* e *y* sono misti\n",
    "\n",
    "    key_num_str(x) > key_num_str(y)\n",
    "    \n",
    "se e solo se *x* è stringa e *y* è numero.\n",
    "\n"
   ]
  },
  {
   "cell_type": "code",
   "execution_count": 31,
   "id": "6f06d9c8",
   "metadata": {},
   "outputs": [
    {
     "name": "stdout",
     "output_type": "stream",
     "text": [
      "['zero', 'due', 'x', 3.14, 1]\n"
     ]
    }
   ],
   "source": [
    "a = ['zero', 3.14, 'due', 1, 'x']\n",
    "bubble_sort(a, k=key_num_str, reverse=True)\n",
    "print(a)"
   ]
  },
  {
   "cell_type": "code",
   "execution_count": null,
   "id": "ddebd63a",
   "metadata": {},
   "outputs": [],
   "source": []
  }
 ],
 "metadata": {
  "kernelspec": {
   "display_name": "Python 3",
   "language": "python",
   "name": "python3"
  },
  "language_info": {
   "codemirror_mode": {
    "name": "ipython",
    "version": 3
   },
   "file_extension": ".py",
   "mimetype": "text/x-python",
   "name": "python",
   "nbconvert_exporter": "python",
   "pygments_lexer": "ipython3",
   "version": "3.9.9"
  }
 },
 "nbformat": 4,
 "nbformat_minor": 5
}
