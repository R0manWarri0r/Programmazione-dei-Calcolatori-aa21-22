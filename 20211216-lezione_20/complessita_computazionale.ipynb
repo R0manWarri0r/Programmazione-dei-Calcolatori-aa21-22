{
 "cells": [
  {
   "cell_type": "markdown",
   "id": "3d4c31f7",
   "metadata": {},
   "source": [
    "# Complessità computazionale"
   ]
  },
  {
   "cell_type": "markdown",
   "id": "4422c369",
   "metadata": {},
   "source": [
    "Qual è la complessità computazionale in termini di tempo della seguente funzione?"
   ]
  },
  {
   "cell_type": "code",
   "execution_count": 2,
   "id": "33e562a3",
   "metadata": {},
   "outputs": [],
   "source": [
    "def move_max( a ):\n",
    "    '''\n",
    "    pre: a e' una lista di numeri\n",
    "    sposta il massimo di a in fondo alla lista, gli\n",
    "    altri elementi occuperanno le posizioni precedenti\n",
    "    '''\n",
    "    n = len(a)\n",
    "    for i in range(n-1):\n",
    "        # confrontiamo l'elemento in posizione i e i+1\n",
    "        if a[i] > a[i+1]:\n",
    "            # scambio gli elementi\n",
    "            a[i], a[i+1] = a[i+1], a[i]"
   ]
  },
  {
   "cell_type": "markdown",
   "id": "7f90c03b",
   "metadata": {},
   "source": [
    "Il numero di operazioni elementari eseguite dalla funzione su input *a* dipenderà anche da quante volte risulterà vero il test in riga 10. Quando la condizione è vera veranno eseguite un numero costante di operazioni aggiuntive (quelle nel blocco dell'**if**). Nel peggiore dei casi la condizione in linea 10 è vera per tutte le coppie consecutive, in questo caso il numero di operazioni eseguite può essere espresso nel seguente modo\n",
    "\n",
    "    t(n) = c0 + (n-1)(c1 + c2)\n",
    "    \n",
    "dove *c0*, *c1* e *c2* sono opportune costanti e rappresentano rispettivamente il numero di operazioni fino alla riga 7, il numero di operazioni nel test di riga 10 ed il numero di operazionni in riga 12.  Tenendo conto che *c1+c2* è anch'essa una costante, la precedente espressione può essere scritta come\n",
    "\n",
    "    t(n) = c0 + c(n-1)\n",
    "\n",
    "Notare che la precedente espressione non dipende più dalla struttura dell'input ma solo da *n*, ovvero la sua dimensione. Passando alla notazione O-grande, ovvero tenendo conto solo dell'ordine di grandezza abbiamo che\n",
    "\n",
    "    t(n) è O(n)\n",
    "    \n",
    "Ovvero il costo della funzione in termini di tempo cresce linearmente con il crescere della dimensione dell'input.\n",
    "\n",
    "Ora valutiamo il costo della funzione bubble_sort."
   ]
  },
  {
   "cell_type": "code",
   "execution_count": 1,
   "id": "5acf1ecf",
   "metadata": {},
   "outputs": [],
   "source": [
    "def bubble_sort( a, k = lambda x: x, reverse = False):\n",
    "    '''\n",
    "    pre: a è una lista\n",
    "    ordina gli elementi della lista in modo crescente rispetto ai valodi restituiti \n",
    "        dalla funzione k. Ovvero dopo l'esecuzione della funzine se\n",
    "        a = [a_0, a_1,... a_n] allora k(a_i) <= k(a_i+1) per tutti gli i.\n",
    "        Di default k è la funzione identità \n",
    "        Se reverse è True l'ordinemanto è invertito, di default vale False\n",
    "    '''\n",
    "    \n",
    "    n = len(a)\n",
    "    ordinata = False\n",
    "    num_scansioni = 0 # numero di scansioni (esecuzioni for) già eseguite\n",
    "    while not ordinata:\n",
    "        ordinata = True\n",
    "        for i in range(n-1-num_scansioni): # ad ogni iterazione il numero di coppie da\n",
    "                                            # analizzare diminuisce di 1\n",
    "            # confrontiamo l'elemento in posizione i e i+1\n",
    "            if (reverse == False and k(a[i]) > k(a[i+1]) ) \\\n",
    "                or ( reverse == True and k(a[i]) < k(a[i+1]) ):\n",
    "                # scambio gli elementi, non posso dire che la lista è ordinata\n",
    "                a[i], a[i+1] = a[i+1], a[i]\n",
    "                ordinata = False\n",
    "        num_scansioni += 1"
   ]
  },
  {
   "cell_type": "markdown",
   "id": "208f0f8f",
   "metadata": {},
   "source": [
    "Fino al ciclo **while** vengono eseguite un numero costante *c0* di operazioni elementari. Per\n",
    "\n",
    "    num_scansioni = 0, 1, 2, ...\n",
    "    \n",
    "il ciclo **for** richiede\n",
    "\n",
    "    c(n-1-num_scansioni)\n",
    "    \n",
    "operazioni (cfr quanto detto per *move_max*), quindi complessivamente il numero di operazioni totali\n",
    "\n",
    "    t(n) = c(n-1) + c(n-2) + c(n-3) + ... + c(n-k)\n",
    "\n",
    "dove *k* dipende da quante volte verrà eseguito il corpo del **while**. Nel caso peggiore questo valore è *n-1* quindi\n",
    "\n",
    "    t(n) = c(n-1) + c(n-2) + c(n-3) + ... + c = cn(n-1)/2\n",
    "    \n",
    "ovvero *t(n)* è https://render.githubusercontent.com/render/math?math=O(n^2), quindi il numero di operazioni cresce come il quadrado della dimensione dell'input."
   ]
  },
  {
   "cell_type": "code",
   "execution_count": null,
   "id": "2d4eb7dc",
   "metadata": {},
   "outputs": [],
   "source": []
  }
 ],
 "metadata": {
  "kernelspec": {
   "display_name": "Python 3",
   "language": "python",
   "name": "python3"
  },
  "language_info": {
   "codemirror_mode": {
    "name": "ipython",
    "version": 3
   },
   "file_extension": ".py",
   "mimetype": "text/x-python",
   "name": "python",
   "nbconvert_exporter": "python",
   "pygments_lexer": "ipython3",
   "version": "3.9.9"
  }
 },
 "nbformat": 4,
 "nbformat_minor": 5
}
