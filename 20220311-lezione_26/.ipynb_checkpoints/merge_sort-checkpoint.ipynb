{
 "cells": [
  {
   "cell_type": "code",
   "execution_count": 1,
   "id": "c94c64e1",
   "metadata": {},
   "outputs": [],
   "source": [
    "def merge( a, b ):\n",
    "    '''\n",
    "    Precondizione: a e b due liste numeriche ordinate in modo non decrescente\n",
    "    Restituisce una lista c ordinata ottenuta dalla fusione di a e b\n",
    "    '''\n",
    "    n_a, n_b = len(a), len(b)\n",
    "    i, j = 0, 0 # indice in a ed in b rispettivamente\n",
    "    c = [] # lista di output\n",
    "    \n",
    "    while i < n_a and j < n_b:\n",
    "        if a[i] < b[j]:\n",
    "            c.append(a[i])\n",
    "            i += 1\n",
    "        else:\n",
    "            c.append(b[j])\n",
    "            j += 1\n",
    "    \n",
    "    c += a[i:] + b[j:]\n",
    "    \n",
    "    return c"
   ]
  },
  {
   "cell_type": "code",
   "execution_count": 2,
   "id": "91a51995",
   "metadata": {},
   "outputs": [
    {
     "name": "stdout",
     "output_type": "stream",
     "text": [
      "[0, 1, 2, 6, 7, 7, 8, 10, 11, 13, 21, 29, 30]\n"
     ]
    }
   ],
   "source": [
    "a = [2, 6, 7, 7, 11]\n",
    "b = [0, 1, 8,10, 13, 21, 29, 30]\n",
    "c = merge(a, b)\n",
    "print(c)"
   ]
  },
  {
   "cell_type": "code",
   "execution_count": 3,
   "id": "9370ff1b",
   "metadata": {},
   "outputs": [
    {
     "data": {
      "text/plain": [
       "[2, 6, 7, 7, 11]"
      ]
     },
     "execution_count": 3,
     "metadata": {},
     "output_type": "execute_result"
    }
   ],
   "source": [
    "a"
   ]
  },
  {
   "cell_type": "code",
   "execution_count": 4,
   "id": "66349b6b",
   "metadata": {},
   "outputs": [
    {
     "data": {
      "text/plain": [
       "[10, 13, 21, 29, 30]"
      ]
     },
     "execution_count": 4,
     "metadata": {},
     "output_type": "execute_result"
    }
   ],
   "source": [
    "a[5:]+b[3:]"
   ]
  },
  {
   "cell_type": "code",
   "execution_count": 16,
   "id": "0395051c",
   "metadata": {},
   "outputs": [],
   "source": [
    "def merge( a, lx, cx, rx ):\n",
    "    '''\n",
    "    Precondizione: a lista e a[lx:cx] e a[cx:rx] ordinate in modo non decrescente\n",
    "    Modifica a fondendo le due sottoliste in modo che a[lx:rx] risulti ordinata\n",
    "    \n",
    "    Sia n = len(a), e k = rx-lx\n",
    "    \n",
    "    Costo: lineare in k\n",
    "    '''\n",
    "    i, j = lx, cx # indice in a[lx:cx] ed in a[cx:rx] rispettivamente\n",
    "    c = [] # lista di output\n",
    "    \n",
    "    # Costo O(k) \n",
    "    while i < cx and j < rx:\n",
    "        if a[i] < a[j]:\n",
    "            c.append(a[i])\n",
    "            i += 1\n",
    "        else:\n",
    "            c.append(a[j])\n",
    "            j += 1\n",
    "    \n",
    "    # Costo O(k)\n",
    "    c += a[i:cx] + a[j:rx]\n",
    "    \n",
    "    #a = a[:lx] + c + a[rx:] Costo lx + (rx-lx) + (n-rx) = O(n)\n",
    "\n",
    "    # Costo O(k)\n",
    "    for i in range(len(c)):\n",
    "        a[lx+i] = c[i]\n"
   ]
  },
  {
   "cell_type": "code",
   "execution_count": 17,
   "id": "573946e8",
   "metadata": {},
   "outputs": [],
   "source": [
    "a = [10, 10, 10, 2, 4, 6, 0, 1, 5, 0, 0 ,0]\n",
    "merge(a, 3, 6, 9)"
   ]
  },
  {
   "cell_type": "code",
   "execution_count": 18,
   "id": "1290ee3e-eeef-4a87-a191-341b1368e30f",
   "metadata": {},
   "outputs": [],
   "source": [
    "def merge_sort(a, lx, rx):\n",
    "    '''\n",
    "    Precondizione: a una lista numerica\n",
    "    Ordina a[lx:rx]\n",
    "    '''\n",
    "    \n",
    "    if lx <= rx-2: # almeno due elementi in a[lx:rx]\n",
    "        cx = (rx+lx)//2\n",
    "        merge_sort(a, lx, cx)\n",
    "        merge_sort(a, cx, rx)\n",
    "        a = merge(a, lx, cx, rx)"
   ]
  },
  {
   "cell_type": "code",
   "execution_count": 19,
   "id": "f6f3f230",
   "metadata": {},
   "outputs": [
    {
     "name": "stdout",
     "output_type": "stream",
     "text": [
      "[0, 2, 2, 3, 3, 3, 4, 4, 4, 4, 5, 5, 7, 8, 9]\n"
     ]
    }
   ],
   "source": [
    "a = [4,2,3,7,4,3,4,5,2,3,0,9,5,4,8]\n",
    "n = len(a)\n",
    "merge_sort(a, 0, n)\n",
    "print(a)"
   ]
  },
  {
   "cell_type": "code",
   "execution_count": 13,
   "id": "eb9551b3",
   "metadata": {},
   "outputs": [
    {
     "name": "stdout",
     "output_type": "stream",
     "text": [
      "[4, 2]\n"
     ]
    }
   ],
   "source": [
    "a = [4,2]\n",
    "n = len(a)\n",
    "merge_sort(a, 0, n)\n",
    "print(a)"
   ]
  },
  {
   "cell_type": "code",
   "execution_count": null,
   "id": "ab0f79f5",
   "metadata": {},
   "outputs": [],
   "source": []
  }
 ],
 "metadata": {
  "kernelspec": {
   "display_name": "Python 3 (ipykernel)",
   "language": "python",
   "name": "python3"
  },
  "language_info": {
   "codemirror_mode": {
    "name": "ipython",
    "version": 3
   },
   "file_extension": ".py",
   "mimetype": "text/x-python",
   "name": "python",
   "nbconvert_exporter": "python",
   "pygments_lexer": "ipython3",
   "version": "3.9.5"
  }
 },
 "nbformat": 4,
 "nbformat_minor": 5
}
