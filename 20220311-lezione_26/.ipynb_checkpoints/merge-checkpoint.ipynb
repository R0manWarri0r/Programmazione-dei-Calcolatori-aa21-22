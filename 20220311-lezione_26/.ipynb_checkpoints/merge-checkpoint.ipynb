{
 "cells": [
  {
   "cell_type": "code",
   "execution_count": 1,
   "id": "c94c64e1",
   "metadata": {},
   "outputs": [],
   "source": [
    "def merge( a, b ):\n",
    "    '''\n",
    "    Precondizione: a e b due liste numeriche ordinate in modo non decrescente\n",
    "    Restituisce una lista c ordinata ottenuta dalla fusione di a e b\n",
    "    '''\n",
    "    n_a, n_b = len(a), len(b)\n",
    "    i, j = 0, 0 # indice in a ed in b rispettivamente\n",
    "    c = [] # lista di output\n",
    "    \n",
    "    while i < n_a and j < n_b:\n",
    "        if a[i] < b[j]:\n",
    "            c.append(a[i])\n",
    "            i += 1\n",
    "        else:\n",
    "            c.append(b[j])\n",
    "            j += 1\n",
    "    \n",
    "    c += a[i:] + b[j:]\n",
    "    \n",
    "    return c"
   ]
  },
  {
   "cell_type": "code",
   "execution_count": 2,
   "id": "91a51995",
   "metadata": {},
   "outputs": [
    {
     "name": "stdout",
     "output_type": "stream",
     "text": [
      "[0, 1, 2, 6, 7, 7, 8, 10, 11, 13, 21, 29, 30]\n"
     ]
    }
   ],
   "source": [
    "a = [2, 6, 7, 7, 11]\n",
    "b = [0, 1, 8,10, 13, 21, 29, 30]\n",
    "c = merge(a, b)\n",
    "print(c)"
   ]
  },
  {
   "cell_type": "code",
   "execution_count": 3,
   "id": "9370ff1b",
   "metadata": {},
   "outputs": [
    {
     "data": {
      "text/plain": [
       "[2, 6, 7, 7, 11]"
      ]
     },
     "execution_count": 3,
     "metadata": {},
     "output_type": "execute_result"
    }
   ],
   "source": [
    "a"
   ]
  },
  {
   "cell_type": "code",
   "execution_count": 4,
   "id": "66349b6b",
   "metadata": {},
   "outputs": [
    {
     "data": {
      "text/plain": [
       "[10, 13, 21, 29, 30]"
      ]
     },
     "execution_count": 4,
     "metadata": {},
     "output_type": "execute_result"
    }
   ],
   "source": [
    "a[5:]+b[3:]"
   ]
  },
  {
   "cell_type": "code",
   "execution_count": 5,
   "id": "0395051c",
   "metadata": {},
   "outputs": [],
   "source": [
    "def merge( a, lx, cx, rx ):\n",
    "    '''\n",
    "    Precondizione: a lista e a[lx:cx] e a[cx:rx] ordinate in modo non decrescente\n",
    "    Modifica a fondendo le due sottoliste in modo che a[lx:rx] risulti ordinata\n",
    "    \n",
    "    Sia n = len(a), e k = rx-lx\n",
    "    \n",
    "    Costo: lineare in k\n",
    "    '''\n",
    "    i, j = lx, cx # indice in a[lx:cx] ed in a[cx:rx] rispettivamente\n",
    "    c = [] # lista di output\n",
    "    \n",
    "    # Costo O(k) \n",
    "    while i < cx and j < rx:\n",
    "        if a[i] < a[j]:\n",
    "            c.append(a[i])\n",
    "            i += 1\n",
    "        else:\n",
    "            c.append(a[j])\n",
    "            j += 1\n",
    "    \n",
    "    # Costo O(k)\n",
    "    c += a[i:cx] + a[j:rx]\n",
    "    \n",
    "    a = a[:lx] + c + a[rx:]\n",
    "    \n",
    "    return a"
   ]
  },
  {
   "cell_type": "code",
   "execution_count": 7,
   "id": "573946e8",
   "metadata": {},
   "outputs": [
    {
     "data": {
      "text/plain": [
       "[10, 10, 10, 0, 1, 2, 4, 5, 6, 0, 0, 0]"
      ]
     },
     "execution_count": 7,
     "metadata": {},
     "output_type": "execute_result"
    }
   ],
   "source": [
    "a = [10, 10, 10, 2, 4, 6, 0, 1, 5, 0, 0 ,0]\n",
    "merge(a, 3, 6, 9)"
   ]
  },
  {
   "cell_type": "code",
   "execution_count": null,
   "id": "1290ee3e-eeef-4a87-a191-341b1368e30f",
   "metadata": {},
   "outputs": [],
   "source": []
  }
 ],
 "metadata": {
  "kernelspec": {
   "display_name": "Python 3 (ipykernel)",
   "language": "python",
   "name": "python3"
  },
  "language_info": {
   "codemirror_mode": {
    "name": "ipython",
    "version": 3
   },
   "file_extension": ".py",
   "mimetype": "text/x-python",
   "name": "python",
   "nbconvert_exporter": "python",
   "pygments_lexer": "ipython3",
   "version": "3.9.5"
  }
 },
 "nbformat": 4,
 "nbformat_minor": 5
}
