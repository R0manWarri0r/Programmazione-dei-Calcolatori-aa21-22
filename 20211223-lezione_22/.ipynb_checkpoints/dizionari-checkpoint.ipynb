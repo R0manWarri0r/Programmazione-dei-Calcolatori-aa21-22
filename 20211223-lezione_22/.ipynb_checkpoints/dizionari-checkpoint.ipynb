{
 "cells": [
  {
   "cell_type": "markdown",
   "id": "f86b6d4e",
   "metadata": {},
   "source": [
    "### Problema\n",
    "\n",
    "Su una lista di `n` elementi si vogliono eseguire `m` ricerche."
   ]
  },
  {
   "cell_type": "code",
   "execution_count": 1,
   "id": "b6e977ee",
   "metadata": {},
   "outputs": [],
   "source": [
    "a = ['uno', 'sei', 'due', 'zero', 'nove', 'uno', 'due']\n",
    "n = len(a)"
   ]
  },
  {
   "cell_type": "markdown",
   "id": "3ca7a8b7",
   "metadata": {},
   "source": [
    "Per `m` volte verificare che un dato elemento (sempre diverso) appartiene alla lista.\n",
    "\n",
    "Soluzione 1"
   ]
  },
  {
   "cell_type": "code",
   "execution_count": 2,
   "id": "c355043a",
   "metadata": {},
   "outputs": [
    {
     "name": "stdout",
     "output_type": "stream",
     "text": [
      "Digita qualcosa: uno\n",
      "SI\n",
      "Digita qualcosa: cinque\n",
      "NO\n",
      "Digita qualcosa: ciao\n",
      "NO\n",
      "Digita qualcosa: due\n",
      "SI\n"
     ]
    }
   ],
   "source": [
    "m = 4\n",
    "\n",
    "for i in range(m):\n",
    "    x = input('Digita qualcosa: ')\n",
    "    if x in a:\n",
    "        print('SI')\n",
    "    else:\n",
    "        print('NO')"
   ]
  },
  {
   "cell_type": "markdown",
   "id": "959a050b",
   "metadata": {},
   "source": [
    "Il costo computazionale di questa soluzione è `O(nm)` in quanto ogni ricerca costa `O(n)`. Come migliorarlo?"
   ]
  },
  {
   "cell_type": "code",
   "execution_count": 3,
   "id": "b2edaac4",
   "metadata": {},
   "outputs": [
    {
     "name": "stdout",
     "output_type": "stream",
     "text": [
      "Digita qualcosa: uno\n",
      "SI\n",
      "Digita qualcosa: cinque\n",
      "NO\n",
      "Digita qualcosa: ciao\n",
      "NO\n",
      "Digita qualcosa: due\n",
      "SI\n"
     ]
    }
   ],
   "source": [
    "s = set(a)\n",
    "m = 4\n",
    "\n",
    "for i in range(m):\n",
    "    x = input('Digita qualcosa: ')\n",
    "    if x in s:\n",
    "        print('SI')\n",
    "    else:\n",
    "        print('NO')"
   ]
  },
  {
   "cell_type": "markdown",
   "id": "631233cc",
   "metadata": {},
   "source": [
    "Il costo è `O(n)` per la creazione del set più `m` ricerche sul set ognuna delle quali costa `O(1)`. Il costo totale è `O(m+n)`."
   ]
  },
  {
   "cell_type": "markdown",
   "id": "c2568c75",
   "metadata": {},
   "source": [
    "### Contare numero di occorrenze\n",
    "\n",
    "Rispetto alla formulazione precedente vogliamo sapere quante volte l'elemento cercato compare nella lista. Con l'insieme perdiamo la molteplicità degli elementi quindi qusto tipo di dato non può essere usato.  "
   ]
  },
  {
   "cell_type": "code",
   "execution_count": 4,
   "id": "c9be36f2",
   "metadata": {},
   "outputs": [],
   "source": [
    "a = ['uno', 'sei', 'due', 'zero', 'nove', 'uno', 'due']\n",
    "n = len(a)"
   ]
  },
  {
   "cell_type": "code",
   "execution_count": 5,
   "id": "8499d9b9",
   "metadata": {},
   "outputs": [
    {
     "name": "stdout",
     "output_type": "stream",
     "text": [
      "Digita qualcosa: uno\n",
      "La stringa uno compare 2 volte\n",
      "Digita qualcosa: cinque\n",
      "La stringa cinque compare 0 volte\n",
      "Digita qualcosa: ciao\n",
      "La stringa ciao compare 0 volte\n",
      "Digita qualcosa: due\n",
      "La stringa due compare 2 volte\n"
     ]
    }
   ],
   "source": [
    "m = 4\n",
    "\n",
    "for i in range(m):\n",
    "    x = input('Digita qualcosa: ')\n",
    "    c = 0\n",
    "    for y in a: # O(n)\n",
    "        if x == y:\n",
    "            c += 1\n",
    "    #print('La stringa '+ x +' compare ' + str(c) + ' volte')\n",
    "    #print('La stringa', x, 'compare', c, 'volte')\n",
    "    print(f'La stringa {x} compare {c} volte')  # Stringa formattata"
   ]
  },
  {
   "cell_type": "markdown",
   "id": "e04bdea4",
   "metadata": {},
   "source": [
    "Ogni conteggio richiede una scansione della lista `a` quindi il costo è `O(nm)`."
   ]
  },
  {
   "cell_type": "markdown",
   "id": "2ed49519",
   "metadata": {},
   "source": [
    "# Dizionario"
   ]
  },
  {
   "cell_type": "markdown",
   "id": "b074665a",
   "metadata": {},
   "source": [
    "### Creazione di un dizionario vuoto"
   ]
  },
  {
   "cell_type": "code",
   "execution_count": 6,
   "id": "1a19407d",
   "metadata": {},
   "outputs": [
    {
     "name": "stdout",
     "output_type": "stream",
     "text": [
      "<class 'dict'>\n"
     ]
    }
   ],
   "source": [
    "d = {}\n",
    "print(type(d))"
   ]
  },
  {
   "cell_type": "markdown",
   "id": "ca0a4cd3",
   "metadata": {},
   "source": [
    "### Inserimento"
   ]
  },
  {
   "cell_type": "code",
   "execution_count": 7,
   "id": "35fdb700",
   "metadata": {},
   "outputs": [
    {
     "name": "stdout",
     "output_type": "stream",
     "text": [
      "{'k0': 3.14, 1000: [2, 1], (1, 2): 'ciao', 'sette': 7}\n"
     ]
    }
   ],
   "source": [
    "d['k0'] = 3.14\n",
    "d[1000] = [2, 1]\n",
    "d[(1,2)] = 'ciao'\n",
    "d['sette'] = 7\n",
    "print(d)"
   ]
  },
  {
   "cell_type": "markdown",
   "id": "3ebff773",
   "metadata": {},
   "source": [
    "### Aggiornamento"
   ]
  },
  {
   "cell_type": "code",
   "execution_count": 8,
   "id": "69491bea",
   "metadata": {},
   "outputs": [
    {
     "name": "stdout",
     "output_type": "stream",
     "text": [
      "{'k0': 'un nuovo valore', 1000: [2, 1], (1, 2): 'ciao', 'sette': 7}\n"
     ]
    }
   ],
   "source": [
    "d['k0'] = 'un nuovo valore'\n",
    "print(d)"
   ]
  },
  {
   "cell_type": "markdown",
   "id": "57f0daae",
   "metadata": {},
   "source": [
    "### Lettura"
   ]
  },
  {
   "cell_type": "code",
   "execution_count": 9,
   "id": "1009b27e",
   "metadata": {},
   "outputs": [
    {
     "name": "stdout",
     "output_type": "stream",
     "text": [
      "7\n"
     ]
    }
   ],
   "source": [
    "print(d['sette'])"
   ]
  },
  {
   "cell_type": "markdown",
   "id": "059b3eb6",
   "metadata": {},
   "source": [
    "### Appartenenza"
   ]
  },
  {
   "cell_type": "code",
   "execution_count": 10,
   "id": "c7b38ef8",
   "metadata": {},
   "outputs": [
    {
     "name": "stdout",
     "output_type": "stream",
     "text": [
      "True\n",
      "False\n"
     ]
    }
   ],
   "source": [
    "print('k0' in d)\n",
    "print(3 in d)"
   ]
  },
  {
   "cell_type": "markdown",
   "id": "0649dd12",
   "metadata": {},
   "source": [
    "### Cancellazione"
   ]
  },
  {
   "cell_type": "code",
   "execution_count": 11,
   "id": "0f565775",
   "metadata": {},
   "outputs": [
    {
     "name": "stdout",
     "output_type": "stream",
     "text": [
      "{1000: [2, 1], (1, 2): 'ciao', 'sette': 7}\n"
     ]
    }
   ],
   "source": [
    "del d['k0']\n",
    "print(d)"
   ]
  },
  {
   "cell_type": "markdown",
   "id": "d259faaf",
   "metadata": {},
   "source": [
    "### Iterazione"
   ]
  },
  {
   "cell_type": "code",
   "execution_count": 12,
   "id": "1894e571",
   "metadata": {},
   "outputs": [
    {
     "name": "stdout",
     "output_type": "stream",
     "text": [
      "1000 ---> [2, 1]\n",
      "(1, 2) ---> ciao\n",
      "sette ---> 7\n"
     ]
    }
   ],
   "source": [
    "for x in d:\n",
    "    print(x, '--->' ,d[x])"
   ]
  },
  {
   "cell_type": "markdown",
   "id": "a5358865",
   "metadata": {},
   "source": [
    "### Alcuni metodi"
   ]
  },
  {
   "cell_type": "code",
   "execution_count": 13,
   "id": "8f2bb7cb",
   "metadata": {
    "scrolled": true
   },
   "outputs": [
    {
     "name": "stdout",
     "output_type": "stream",
     "text": [
      "Chiavi:  dict_keys([1000, (1, 2), 'sette'])\n",
      "Valori:  dict_values([[2, 1], 'ciao', 7])\n",
      "Coppie:  dict_items([(1000, [2, 1]), ((1, 2), 'ciao'), ('sette', 7)])\n"
     ]
    }
   ],
   "source": [
    "print('Chiavi: ', d.keys())\n",
    "print('Valori: ', d.values())\n",
    "print('Coppie: ', d.items())"
   ]
  },
  {
   "cell_type": "markdown",
   "id": "c71a617c",
   "metadata": {},
   "source": [
    "Gestione del `KeyError`"
   ]
  },
  {
   "cell_type": "code",
   "execution_count": 14,
   "id": "301a6d9a",
   "metadata": {},
   "outputs": [],
   "source": [
    "if 0 in d:\n",
    "    print(d[0])"
   ]
  },
  {
   "cell_type": "markdown",
   "id": "cf607fd8",
   "metadata": {},
   "source": [
    "## Costi\n",
    "\n",
    "Se `d` ha `n` elementi, le operazioni di *creazione del dizionari vuoto*, *inserimento*, *aggiornamento*, *lettura*, *appartenenza* e *cancellazione* richiedono un costo `O(1)` in media.\n",
    "\n",
    "L'*iterazione* ed i metodi che restituiscono la sequenza di chiave, valori o elementi hanno costo `O(n)`."
   ]
  },
  {
   "cell_type": "markdown",
   "id": "a6205b23",
   "metadata": {},
   "source": [
    "## Esercizio\n",
    "\n",
    "Torniamo a risolvere il problema del conteggio ripeturo del numero di occorrenze di un elemento in una lista."
   ]
  },
  {
   "cell_type": "code",
   "execution_count": 15,
   "id": "6c04163c",
   "metadata": {},
   "outputs": [],
   "source": [
    "a = ['uno', 'sei', 'due', 'zero', 'nove', 'uno', 'due']\n",
    "n = len(a)\n",
    "m = 4"
   ]
  },
  {
   "cell_type": "markdown",
   "id": "d81bb5a6",
   "metadata": {},
   "source": [
    "Inseriamo gli elementi di `a` in un dizionario come chiavi alle quali associamo, come valore, il numero di volte in cui questa compare in `a`."
   ]
  },
  {
   "cell_type": "code",
   "execution_count": 16,
   "id": "020df0ae",
   "metadata": {},
   "outputs": [
    {
     "name": "stdout",
     "output_type": "stream",
     "text": [
      "Digita qualcosa: uno\n",
      "La stringa uno compare 2 volte\n",
      "Digita qualcosa: cinque\n",
      "La stringa cinque compare 0 volte\n",
      "Digita qualcosa: ciao\n",
      "La stringa ciao compare 0 volte\n",
      "Digita qualcosa: due\n",
      "La stringa due compare 2 volte\n"
     ]
    }
   ],
   "source": [
    "# costruzione del dizionario\n",
    "d = {}\n",
    "for x in  a:\n",
    "    if x in d:\n",
    "        d[x] += 1\n",
    "    else:\n",
    "        d[x] = 1\n",
    "\n",
    "# ricerche\n",
    "for i in range(m):\n",
    "    x = input('Digita qualcosa: ')\n",
    "\n",
    "    if x in d:\n",
    "        c = d[x]\n",
    "    else:\n",
    "        c = 0\n",
    "    \n",
    "    print(f'La stringa {x} compare {c} volte')"
   ]
  },
  {
   "cell_type": "markdown",
   "id": "f6cff7b3",
   "metadata": {},
   "source": [
    "### Costo\n",
    "\n",
    "Usando il dizionario si ottiene in tempo costante il numero di volte che la stringa `x` compare in `a` come chiave. Se non è presente questa compare `0` volte. Quindi il costo computazionale complessivo è `O(n)` per la creazione del dizionario più + `O(m)` per le ricerche `m` ricerche."
   ]
  },
  {
   "cell_type": "code",
   "execution_count": null,
   "id": "8e65e7ae",
   "metadata": {},
   "outputs": [],
   "source": []
  }
 ],
 "metadata": {
  "kernelspec": {
   "display_name": "Python 3",
   "language": "python",
   "name": "python3"
  },
  "language_info": {
   "codemirror_mode": {
    "name": "ipython",
    "version": 3
   },
   "file_extension": ".py",
   "mimetype": "text/x-python",
   "name": "python",
   "nbconvert_exporter": "python",
   "pygments_lexer": "ipython3",
   "version": "3.9.9"
  }
 },
 "nbformat": 4,
 "nbformat_minor": 5
}
