{
 "cells": [
  {
   "cell_type": "markdown",
   "id": "be982ee2",
   "metadata": {},
   "source": [
    "### Problema\n",
    "\n",
    "Su una lista di `n` elementi si vogliono eseguire `m` ricerche."
   ]
  },
  {
   "cell_type": "code",
   "execution_count": 1,
   "id": "ee30d256",
   "metadata": {},
   "outputs": [],
   "source": [
    "a = ['uno', 'sei', 'due', 'zero', 'nove', 'uno', 'due']\n",
    "n = len(a)"
   ]
  },
  {
   "cell_type": "markdown",
   "id": "dcf53a74",
   "metadata": {},
   "source": [
    "Per `m` volte verificare che un dato elemento (sempre diverso) appartiene alla lista.\n",
    "\n",
    "Soluzione 1"
   ]
  },
  {
   "cell_type": "code",
   "execution_count": 2,
   "id": "0d166c3a",
   "metadata": {},
   "outputs": [
    {
     "name": "stdout",
     "output_type": "stream",
     "text": [
      "Digita qualcosa: uno\n",
      "SI\n",
      "Digita qualcosa: cinque\n",
      "NO\n",
      "Digita qualcosa: ciao\n",
      "NO\n",
      "Digita qualcosa: due\n",
      "SI\n"
     ]
    }
   ],
   "source": [
    "m = 4\n",
    "\n",
    "for i in range(m):\n",
    "    x = input('Digita qualcosa: ')\n",
    "    if x in a:\n",
    "        print('SI')\n",
    "    else:\n",
    "        print('NO')"
   ]
  },
  {
   "cell_type": "markdown",
   "id": "b92f5af3",
   "metadata": {},
   "source": [
    "Il costo computazionale di questa soluzione è `O(nm)` in quanto ogni ricerca costa `O(n)`. Come migliorarlo?"
   ]
  },
  {
   "cell_type": "code",
   "execution_count": 3,
   "id": "26c103d5",
   "metadata": {},
   "outputs": [
    {
     "name": "stdout",
     "output_type": "stream",
     "text": [
      "Digita qualcosa: uno\n",
      "SI\n",
      "Digita qualcosa: cinque\n",
      "NO\n",
      "Digita qualcosa: ciao\n",
      "NO\n",
      "Digita qualcosa: due\n",
      "SI\n"
     ]
    }
   ],
   "source": [
    "s = set(a)\n",
    "m = 4\n",
    "\n",
    "for i in range(m):\n",
    "    x = input('Digita qualcosa: ')\n",
    "    if x in s:\n",
    "        print('SI')\n",
    "    else:\n",
    "        print('NO')"
   ]
  },
  {
   "cell_type": "markdown",
   "id": "a8afcdd7",
   "metadata": {},
   "source": [
    "Il costo è `O(n)` per la creazione del set più `m` ricerche sul set ognuna delle quali costa `O(1)`. Il costo totale è `O(m+n)`."
   ]
  },
  {
   "cell_type": "markdown",
   "id": "78bac436",
   "metadata": {},
   "source": [
    "### Contare numero di occorrenze\n",
    "\n",
    "Rispetto alla formulazione precedente vogliamo sapere quante volte l'elemento cercato compare nella lista. Con l'insieme perdiamo la molteplicità degli elementi quindi qusto tipo di dato non può essere usato.  "
   ]
  },
  {
   "cell_type": "code",
   "execution_count": 4,
   "id": "0bc71fd9",
   "metadata": {},
   "outputs": [],
   "source": [
    "a = ['uno', 'sei', 'due', 'zero', 'nove', 'uno', 'due']\n",
    "n = len(a)"
   ]
  },
  {
   "cell_type": "code",
   "execution_count": 5,
   "id": "6eb5e225",
   "metadata": {},
   "outputs": [
    {
     "name": "stdout",
     "output_type": "stream",
     "text": [
      "Digita qualcosa: uno\n",
      "La stringa uno compare 2 volte\n",
      "Digita qualcosa: cinque\n",
      "La stringa cinque compare 0 volte\n",
      "Digita qualcosa: ciao\n",
      "La stringa ciao compare 0 volte\n",
      "Digita qualcosa: due\n",
      "La stringa due compare 2 volte\n"
     ]
    }
   ],
   "source": [
    "m = 4\n",
    "\n",
    "for i in range(m):\n",
    "    x = input('Digita qualcosa: ')\n",
    "    c = 0\n",
    "    for y in a: # O(n)\n",
    "        if x == y:\n",
    "            c += 1\n",
    "    #print('La stringa '+ x +' compare ' + str(c) + ' volte')\n",
    "    #print('La stringa', x, 'compare', c, 'volte')\n",
    "    print(f'La stringa {x} compare {c} volte')  # Stringa formattata"
   ]
  },
  {
   "cell_type": "markdown",
   "id": "907e80db",
   "metadata": {},
   "source": [
    "Ogni conteggio richiede una scansione della lista `a` quindi il costo è `O(nm)`."
   ]
  },
  {
   "cell_type": "markdown",
   "id": "26d74fc5",
   "metadata": {},
   "source": [
    "# Dizionario"
   ]
  },
  {
   "cell_type": "markdown",
   "id": "deae9586",
   "metadata": {},
   "source": [
    "### Creazione di un dizionario vuoto"
   ]
  },
  {
   "cell_type": "code",
   "execution_count": 6,
   "id": "7bd35e23",
   "metadata": {},
   "outputs": [
    {
     "name": "stdout",
     "output_type": "stream",
     "text": [
      "<class 'dict'>\n"
     ]
    }
   ],
   "source": [
    "d = {}\n",
    "print(type(d))"
   ]
  },
  {
   "cell_type": "markdown",
   "id": "5ee754e7",
   "metadata": {},
   "source": [
    "### Inserimento"
   ]
  },
  {
   "cell_type": "code",
   "execution_count": 7,
   "id": "545c4b84",
   "metadata": {},
   "outputs": [
    {
     "name": "stdout",
     "output_type": "stream",
     "text": [
      "{'k0': 3.14, 1000: [2, 1], (1, 2): 'ciao', 'sette': 7}\n"
     ]
    }
   ],
   "source": [
    "d['k0'] = 3.14\n",
    "d[1000] = [2, 1]\n",
    "d[(1,2)] = 'ciao'\n",
    "d['sette'] = 7\n",
    "print(d)"
   ]
  },
  {
   "cell_type": "markdown",
   "id": "77012797",
   "metadata": {},
   "source": [
    "### Aggiornamento"
   ]
  },
  {
   "cell_type": "code",
   "execution_count": 8,
   "id": "07acfe59",
   "metadata": {},
   "outputs": [
    {
     "name": "stdout",
     "output_type": "stream",
     "text": [
      "{'k0': 'un nuovo valore', 1000: [2, 1], (1, 2): 'ciao', 'sette': 7}\n"
     ]
    }
   ],
   "source": [
    "d['k0'] = 'un nuovo valore'\n",
    "print(d)"
   ]
  },
  {
   "cell_type": "markdown",
   "id": "f127f92d",
   "metadata": {},
   "source": [
    "### Lettura"
   ]
  },
  {
   "cell_type": "code",
   "execution_count": 9,
   "id": "83a40fe5",
   "metadata": {},
   "outputs": [
    {
     "name": "stdout",
     "output_type": "stream",
     "text": [
      "7\n"
     ]
    }
   ],
   "source": [
    "print(d['sette'])"
   ]
  },
  {
   "cell_type": "markdown",
   "id": "c6f24075",
   "metadata": {},
   "source": [
    "### Appartenenza"
   ]
  },
  {
   "cell_type": "code",
   "execution_count": 10,
   "id": "b0a2c329",
   "metadata": {},
   "outputs": [
    {
     "name": "stdout",
     "output_type": "stream",
     "text": [
      "True\n",
      "False\n"
     ]
    }
   ],
   "source": [
    "print('k0' in d)\n",
    "print(3 in d)"
   ]
  },
  {
   "cell_type": "markdown",
   "id": "4bcf8380",
   "metadata": {},
   "source": [
    "### Cancellazione"
   ]
  },
  {
   "cell_type": "code",
   "execution_count": 11,
   "id": "d8306b8e",
   "metadata": {},
   "outputs": [
    {
     "name": "stdout",
     "output_type": "stream",
     "text": [
      "{1000: [2, 1], (1, 2): 'ciao', 'sette': 7}\n"
     ]
    }
   ],
   "source": [
    "del d['k0']\n",
    "print(d)"
   ]
  },
  {
   "cell_type": "markdown",
   "id": "30e723c5",
   "metadata": {},
   "source": [
    "### Iterazione"
   ]
  },
  {
   "cell_type": "code",
   "execution_count": 12,
   "id": "c02f7806",
   "metadata": {},
   "outputs": [
    {
     "name": "stdout",
     "output_type": "stream",
     "text": [
      "1000 ---> [2, 1]\n",
      "(1, 2) ---> ciao\n",
      "sette ---> 7\n"
     ]
    }
   ],
   "source": [
    "for x in d:\n",
    "    print(x, '--->' ,d[x])"
   ]
  },
  {
   "cell_type": "markdown",
   "id": "76ddb9d0",
   "metadata": {},
   "source": [
    "### Alcuni metodi"
   ]
  },
  {
   "cell_type": "code",
   "execution_count": 13,
   "id": "74863275",
   "metadata": {
    "scrolled": true
   },
   "outputs": [
    {
     "name": "stdout",
     "output_type": "stream",
     "text": [
      "Chiavi:  dict_keys([1000, (1, 2), 'sette'])\n",
      "Valori:  dict_values([[2, 1], 'ciao', 7])\n",
      "Coppie:  dict_items([(1000, [2, 1]), ((1, 2), 'ciao'), ('sette', 7)])\n"
     ]
    }
   ],
   "source": [
    "print('Chiavi: ', d.keys())\n",
    "print('Valori: ', d.values())\n",
    "print('Coppie: ', d.items())"
   ]
  },
  {
   "cell_type": "markdown",
   "id": "ebb3d5a7",
   "metadata": {},
   "source": [
    "Gestione del `KeyError`"
   ]
  },
  {
   "cell_type": "code",
   "execution_count": 14,
   "id": "8165de1d",
   "metadata": {},
   "outputs": [],
   "source": [
    "if 0 in d:\n",
    "    print(d[0])"
   ]
  },
  {
   "cell_type": "markdown",
   "id": "63e3707a",
   "metadata": {},
   "source": [
    "## Costi\n",
    "\n",
    "Se `d` ha `n` elementi, le operazioni di *creazione del dizionari vuoto*, *inserimento*, *aggiornamento*, *lettura*, *appartenenza* e *cancellazione* richiedono un costo `O(1)` in media.\n",
    "\n",
    "L'*iterazione* ed i metodi che restituiscono la sequenza di chiave, valori o elementi hanno costo `O(n)`."
   ]
  },
  {
   "cell_type": "markdown",
   "id": "2d6543dd",
   "metadata": {},
   "source": [
    "## Esercizio\n",
    "\n",
    "Torniamo a risolvere il problema del conteggio ripeturo del numero di occorrenze di un elemento in una lista."
   ]
  },
  {
   "cell_type": "code",
   "execution_count": 15,
   "id": "60f944e9",
   "metadata": {},
   "outputs": [],
   "source": [
    "a = ['uno', 'sei', 'due', 'zero', 'nove', 'uno', 'due']\n",
    "n = len(a)\n",
    "m = 4"
   ]
  },
  {
   "cell_type": "markdown",
   "id": "a4fc4129",
   "metadata": {},
   "source": [
    "Inseriamo gli elementi di `a` in un dizionario come chiavi alle quali associamo, come valore, il numero di volte in cui questa compare in `a`."
   ]
  },
  {
   "cell_type": "code",
   "execution_count": 16,
   "id": "e0c21ed7",
   "metadata": {},
   "outputs": [
    {
     "name": "stdout",
     "output_type": "stream",
     "text": [
      "Digita qualcosa: uno\n",
      "La stringa uno compare 2 volte\n",
      "Digita qualcosa: cinque\n",
      "La stringa cinque compare 0 volte\n",
      "Digita qualcosa: ciao\n",
      "La stringa ciao compare 0 volte\n",
      "Digita qualcosa: due\n",
      "La stringa due compare 2 volte\n"
     ]
    }
   ],
   "source": [
    "# costruzione del dizionario\n",
    "d = {}\n",
    "for x in  a:\n",
    "    if x in d:\n",
    "        d[x] += 1\n",
    "    else:\n",
    "        d[x] = 1\n",
    "\n",
    "# ricerche\n",
    "for i in range(m):\n",
    "    x = input('Digita qualcosa: ')\n",
    "\n",
    "    if x in d:\n",
    "        c = d[x]\n",
    "    else:\n",
    "        c = 0\n",
    "    \n",
    "    print(f'La stringa {x} compare {c} volte')"
   ]
  },
  {
   "cell_type": "markdown",
   "id": "fa985203",
   "metadata": {},
   "source": [
    "Usando il dizionario si ottiene in tempo costante il numero di volte che la stringa `x` compare in `a` come chiave. Se non è presente questa compare `0` volte. Quindi il costo computazionale complessivo è `O(n)` per la creazione del dizionario più + `O(m)` per le ricerche `m` ricerche."
   ]
  },
  {
   "cell_type": "code",
   "execution_count": null,
   "id": "8d13afbd",
   "metadata": {},
   "outputs": [],
   "source": []
  }
 ],
 "metadata": {
  "kernelspec": {
   "display_name": "Python 3",
   "language": "python",
   "name": "python3"
  },
  "language_info": {
   "codemirror_mode": {
    "name": "ipython",
    "version": 3
   },
   "file_extension": ".py",
   "mimetype": "text/x-python",
   "name": "python",
   "nbconvert_exporter": "python",
   "pygments_lexer": "ipython3",
   "version": "3.9.9"
  }
 },
 "nbformat": 4,
 "nbformat_minor": 5
}
