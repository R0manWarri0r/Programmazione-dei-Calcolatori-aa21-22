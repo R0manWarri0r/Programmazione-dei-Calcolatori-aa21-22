{
 "cells": [
  {
   "cell_type": "code",
   "execution_count": 1,
   "id": "f4d2ec82",
   "metadata": {},
   "outputs": [],
   "source": [
    "a = [3, 81, 4, 17, 0, 9, 11]\n",
    "n = len(a)"
   ]
  },
  {
   "cell_type": "code",
   "execution_count": 4,
   "id": "a309bffc",
   "metadata": {},
   "outputs": [],
   "source": [
    "for i in range(n-1):\n",
    "    # confrontiamo l'elemento in posizione i e i+1\n",
    "    if a[i] > a[i+1]:\n",
    "        # scambio gli elementi\n",
    "        a[i], a[i+1] = a[i+1], a[i]\n",
    "    "
   ]
  },
  {
   "cell_type": "code",
   "execution_count": 5,
   "id": "757a16a1",
   "metadata": {},
   "outputs": [
    {
     "name": "stdout",
     "output_type": "stream",
     "text": [
      "[3, 4, 17, 0, 9, 11, 81]\n"
     ]
    }
   ],
   "source": [
    "print(a)"
   ]
  },
  {
   "cell_type": "markdown",
   "id": "133d8cc4",
   "metadata": {},
   "source": [
    "# Spacchettamento e impacchettamento"
   ]
  },
  {
   "cell_type": "code",
   "execution_count": 8,
   "id": "189452d3",
   "metadata": {},
   "outputs": [],
   "source": [
    "x, y = (0, 1)"
   ]
  },
  {
   "cell_type": "code",
   "execution_count": 9,
   "id": "23c113b3",
   "metadata": {},
   "outputs": [
    {
     "name": "stdout",
     "output_type": "stream",
     "text": [
      "0 1\n"
     ]
    }
   ],
   "source": [
    "print(x, y)"
   ]
  },
  {
   "cell_type": "code",
   "execution_count": 10,
   "id": "74f488ec",
   "metadata": {},
   "outputs": [],
   "source": [
    "z = (0, 1)"
   ]
  },
  {
   "cell_type": "code",
   "execution_count": 11,
   "id": "5d1e87e0",
   "metadata": {},
   "outputs": [
    {
     "data": {
      "text/plain": [
       "int"
      ]
     },
     "execution_count": 11,
     "metadata": {},
     "output_type": "execute_result"
    }
   ],
   "source": [
    "type(x)"
   ]
  },
  {
   "cell_type": "code",
   "execution_count": 12,
   "id": "61e01fd1",
   "metadata": {},
   "outputs": [
    {
     "data": {
      "text/plain": [
       "tuple"
      ]
     },
     "execution_count": 12,
     "metadata": {},
     "output_type": "execute_result"
    }
   ],
   "source": [
    "type(z)"
   ]
  },
  {
   "cell_type": "code",
   "execution_count": 13,
   "id": "c9bfa987",
   "metadata": {},
   "outputs": [],
   "source": [
    "x, y = z"
   ]
  },
  {
   "cell_type": "code",
   "execution_count": 14,
   "id": "d061caea",
   "metadata": {},
   "outputs": [
    {
     "ename": "ValueError",
     "evalue": "too many values to unpack (expected 2)",
     "output_type": "error",
     "traceback": [
      "\u001b[0;31m---------------------------------------------------------------------------\u001b[0m",
      "\u001b[0;31mValueError\u001b[0m                                Traceback (most recent call last)",
      "\u001b[0;32m/tmp/ipykernel_16059/406400431.py\u001b[0m in \u001b[0;36m<module>\u001b[0;34m\u001b[0m\n\u001b[0;32m----> 1\u001b[0;31m \u001b[0mx\u001b[0m\u001b[0;34m,\u001b[0m \u001b[0my\u001b[0m \u001b[0;34m=\u001b[0m \u001b[0;34m(\u001b[0m\u001b[0;36m1\u001b[0m\u001b[0;34m,\u001b[0m\u001b[0;36m2\u001b[0m\u001b[0;34m,\u001b[0m\u001b[0;36m3\u001b[0m\u001b[0;34m)\u001b[0m\u001b[0;34m\u001b[0m\u001b[0;34m\u001b[0m\u001b[0m\n\u001b[0m",
      "\u001b[0;31mValueError\u001b[0m: too many values to unpack (expected 2)"
     ]
    }
   ],
   "source": [
    "x, y = (1,2,3)"
   ]
  },
  {
   "cell_type": "code",
   "execution_count": 15,
   "id": "e15c0775",
   "metadata": {},
   "outputs": [
    {
     "ename": "ValueError",
     "evalue": "not enough values to unpack (expected 3, got 2)",
     "output_type": "error",
     "traceback": [
      "\u001b[0;31m---------------------------------------------------------------------------\u001b[0m",
      "\u001b[0;31mValueError\u001b[0m                                Traceback (most recent call last)",
      "\u001b[0;32m/tmp/ipykernel_16059/2705115096.py\u001b[0m in \u001b[0;36m<module>\u001b[0;34m\u001b[0m\n\u001b[0;32m----> 1\u001b[0;31m \u001b[0mx\u001b[0m\u001b[0;34m,\u001b[0m \u001b[0my\u001b[0m\u001b[0;34m,\u001b[0m \u001b[0mz\u001b[0m \u001b[0;34m=\u001b[0m \u001b[0;36m0\u001b[0m\u001b[0;34m,\u001b[0m \u001b[0;36m1\u001b[0m\u001b[0;34m\u001b[0m\u001b[0;34m\u001b[0m\u001b[0m\n\u001b[0m",
      "\u001b[0;31mValueError\u001b[0m: not enough values to unpack (expected 3, got 2)"
     ]
    }
   ],
   "source": [
    "x, y, z = 0, 1"
   ]
  },
  {
   "cell_type": "code",
   "execution_count": 16,
   "id": "069c5c4f",
   "metadata": {},
   "outputs": [],
   "source": [
    "x, y = [1, 2] "
   ]
  },
  {
   "cell_type": "code",
   "execution_count": 18,
   "id": "def27fdf",
   "metadata": {},
   "outputs": [
    {
     "name": "stdout",
     "output_type": "stream",
     "text": [
      "1 2\n"
     ]
    }
   ],
   "source": [
    "print(x, y)"
   ]
  },
  {
   "cell_type": "markdown",
   "id": "3b84ce44",
   "metadata": {},
   "source": [
    "# Liste e funzioni"
   ]
  },
  {
   "cell_type": "code",
   "execution_count": 22,
   "id": "397087cf",
   "metadata": {},
   "outputs": [],
   "source": [
    "def move_max( a ):\n",
    "    '''\n",
    "    pre: a e' una lista di numeri\n",
    "    sposta il massimo di a in fondo alla lista, gli\n",
    "    altri elementi occuperanno le posizioni precedenti\n",
    "    '''\n",
    "    n = len(a)\n",
    "    for i in range(n-1):\n",
    "        # confrontiamo l'elemento in posizione i e i+1\n",
    "        if a[i] > a[i+1]:\n",
    "            # scambio gli elementi\n",
    "            a[i], a[i+1] = a[i+1], a[i]"
   ]
  },
  {
   "cell_type": "code",
   "execution_count": 26,
   "id": "04044cfd",
   "metadata": {},
   "outputs": [],
   "source": [
    "b = [3, 81, 4, 17, 0, 9, 11]"
   ]
  },
  {
   "cell_type": "code",
   "execution_count": 27,
   "id": "0be8af8a",
   "metadata": {},
   "outputs": [],
   "source": [
    "move_max(b)"
   ]
  },
  {
   "cell_type": "code",
   "execution_count": 28,
   "id": "caec7c32",
   "metadata": {},
   "outputs": [
    {
     "name": "stdout",
     "output_type": "stream",
     "text": [
      "[3, 4, 17, 0, 9, 11, 81]\n"
     ]
    }
   ],
   "source": [
    "print(b)"
   ]
  },
  {
   "cell_type": "code",
   "execution_count": 33,
   "id": "f9c8d7e4",
   "metadata": {},
   "outputs": [],
   "source": [
    "def move_max_new( a ):\n",
    "    '''\n",
    "    pre: a e' una lista di numeri\n",
    "    crea una nuova lista contenente tutti gli\n",
    "    elementi di a, il massimo deve trovarsi in fondo\n",
    "    '''\n",
    "    a_copy = a[:]\n",
    "    # perche' non a_copy = a ?\n",
    "    n = len(a_copy)\n",
    "    for i in range(n-1):\n",
    "        # confrontiamo l'elemento in posizione i e i+1\n",
    "        if a_copy[i] > a_copy[i+1]:\n",
    "            # scambio gli elementi\n",
    "            a_copy[i], a_copy[i+1] = \\\n",
    "                a_copy[i+1], a_copy[i]\n",
    "            \n",
    "    return a_copy"
   ]
  },
  {
   "cell_type": "code",
   "execution_count": 34,
   "id": "f26344ce",
   "metadata": {},
   "outputs": [],
   "source": [
    "b = [3, 81, 4, 17, 0, 9, 11]"
   ]
  },
  {
   "cell_type": "code",
   "execution_count": 36,
   "id": "87aaebe8",
   "metadata": {},
   "outputs": [],
   "source": [
    "c  = move_max_new(b)"
   ]
  },
  {
   "cell_type": "code",
   "execution_count": 37,
   "id": "00175430",
   "metadata": {},
   "outputs": [
    {
     "name": "stdout",
     "output_type": "stream",
     "text": [
      "[3, 81, 4, 17, 0, 9, 11]\n"
     ]
    }
   ],
   "source": [
    "print(b)"
   ]
  },
  {
   "cell_type": "code",
   "execution_count": 38,
   "id": "f85e6d87",
   "metadata": {},
   "outputs": [
    {
     "name": "stdout",
     "output_type": "stream",
     "text": [
      "[3, 4, 17, 0, 9, 11, 81]\n"
     ]
    }
   ],
   "source": [
    "print(c)"
   ]
  },
  {
   "cell_type": "code",
   "execution_count": null,
   "id": "76cf7dab",
   "metadata": {},
   "outputs": [],
   "source": []
  }
 ],
 "metadata": {
  "kernelspec": {
   "display_name": "Python 3",
   "language": "python",
   "name": "python3"
  },
  "language_info": {
   "codemirror_mode": {
    "name": "ipython",
    "version": 3
   },
   "file_extension": ".py",
   "mimetype": "text/x-python",
   "name": "python",
   "nbconvert_exporter": "python",
   "pygments_lexer": "ipython3",
   "version": "3.9.9"
  }
 },
 "nbformat": 4,
 "nbformat_minor": 5
}
