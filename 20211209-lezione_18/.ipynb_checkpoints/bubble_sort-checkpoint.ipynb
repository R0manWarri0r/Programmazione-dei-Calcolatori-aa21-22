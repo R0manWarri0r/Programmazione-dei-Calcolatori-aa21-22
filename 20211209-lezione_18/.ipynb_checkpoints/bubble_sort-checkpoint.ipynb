{
 "cells": [
  {
   "cell_type": "markdown",
   "id": "c319f15d",
   "metadata": {},
   "source": [
    "# Bubble-sort"
   ]
  },
  {
   "cell_type": "code",
   "execution_count": 8,
   "id": "6a58e818",
   "metadata": {},
   "outputs": [],
   "source": [
    "def cmp_len( x, y):\n",
    "    # restituisce l'esito del confronto tra le lunghezze degli argomenti\n",
    "    return len(x) <= len(y)\n",
    "\n",
    "def cmp_val( x, y):\n",
    "     # restituisce l'esito del confronto tra i valori dei argomenti\n",
    "    return x <= y\n",
    "\n",
    "def cmp_val_strlen(x, y):\n",
    "    '''\n",
    "    pre: i tipi di x ed y sono numeri o stringhe\n",
    "    restituisce l'esito del confronto tra x e y\n",
    "    '''\n",
    "    if type(x) in (float, int) and type(y) in (int, float):\n",
    "        return x <= y\n",
    "    if type(x) == str and type(y) == str:\n",
    "        return len(x) <= len(y)\n",
    "    # x ed y hanno tipi divesi\n",
    "    if type(x) in (int, float): # allora y è str \n",
    "        return True\n",
    "    else: # x non intero allora x è str allora y è numero\n",
    "        return False"
   ]
  },
  {
   "cell_type": "code",
   "execution_count": 9,
   "id": "b2838f46",
   "metadata": {},
   "outputs": [],
   "source": [
    "def bubble_sort( a, cmp_func = cmp_val ):\n",
    "    '''\n",
    "    pre: a è una lista di numeri;\n",
    "        cmp_func restituisce l'esito del confronto tra due elementi di a ovvero\n",
    "        restituisce True se e solo se il primo precede il secondo\n",
    "    ordina la lista dall'elemento più piccolo a quello più grande\n",
    "    '''\n",
    "    n = len(a)\n",
    "    ordinata = False\n",
    "    num_scansioni = 0 # numero di scansioni (esecuzioni for) già eseguite\n",
    "    while not ordinata:\n",
    "        ordinata = True\n",
    "        for i in range(n-1-num_scansioni):\n",
    "            # confrontiamo l'elemento in posizione i e i+1\n",
    "            if not cmp_func(a[i], a[i+1]) :\n",
    "                # scambio gli elementi, non posso dire che la lista è ordinata\n",
    "                a[i], a[i+1] = a[i+1], a[i]\n",
    "                ordinata = False\n",
    "        num_scansioni += 1"
   ]
  },
  {
   "cell_type": "markdown",
   "id": "cf601f0a",
   "metadata": {},
   "source": [
    "Esempio di due funzioni di confronto."
   ]
  },
  {
   "cell_type": "code",
   "execution_count": 10,
   "id": "a0ccb814",
   "metadata": {},
   "outputs": [
    {
     "name": "stdout",
     "output_type": "stream",
     "text": [
      "[0, 2, 3.14, 6, 'tre', 'uno', 'zero', 'novantanove']\n"
     ]
    }
   ],
   "source": [
    "a = [6, 'zero', 'novantanove', 2, 'tre', 0, 'uno', 3.14]\n",
    "bubble_sort(a, cmp_val_strlen)\n",
    "print(a)"
   ]
  },
  {
   "cell_type": "code",
   "execution_count": 11,
   "id": "11cf23ce",
   "metadata": {},
   "outputs": [
    {
     "name": "stdout",
     "output_type": "stream",
     "text": [
      "[1, 2, 2.71, 3, 8]\n"
     ]
    }
   ],
   "source": [
    "a = [3,2,1,2.71,8]\n",
    "bubble_sort( a )\n",
    "print(a)"
   ]
  },
  {
   "cell_type": "markdown",
   "id": "e47ea314",
   "metadata": {},
   "source": [
    "## Funzioni anonime"
   ]
  },
  {
   "cell_type": "code",
   "execution_count": null,
   "id": "ed255af1",
   "metadata": {},
   "outputs": [],
   "source": []
  }
 ],
 "metadata": {
  "kernelspec": {
   "display_name": "Python 3",
   "language": "python",
   "name": "python3"
  },
  "language_info": {
   "codemirror_mode": {
    "name": "ipython",
    "version": 3
   },
   "file_extension": ".py",
   "mimetype": "text/x-python",
   "name": "python",
   "nbconvert_exporter": "python",
   "pygments_lexer": "ipython3",
   "version": "3.9.7"
  }
 },
 "nbformat": 4,
 "nbformat_minor": 5
}
