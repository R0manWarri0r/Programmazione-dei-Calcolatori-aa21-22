{
 "cells": [
  {
   "cell_type": "markdown",
   "id": "c319f15d",
   "metadata": {},
   "source": [
    "# Bubble-sort"
   ]
  },
  {
   "cell_type": "code",
   "execution_count": 1,
   "id": "6a58e818",
   "metadata": {},
   "outputs": [],
   "source": [
    "def cmp_len( x, y):\n",
    "    # restituisce l'esito del confronto tra le lunghezze degli argomenti\n",
    "    return len(x) <= len(y)\n",
    "\n",
    "def cmp_val( x, y):\n",
    "     # restituisce l'esito del confronto tra i valori dei argomenti\n",
    "    return x <= y\n",
    "\n",
    "def cmp_val_strlen(x, y):\n",
    "    '''\n",
    "    pre: i tipi di x ed y sono numeri o stringhe\n",
    "    restituisce l'esito del confronto tra x e y\n",
    "    '''\n",
    "    if type(x) in (float, int) and type(y) in (int, float):\n",
    "        return x <= y\n",
    "    if type(x) == str and type(y) == str:\n",
    "        return len(x) <= len(y)\n",
    "    # x ed y hanno tipi divesi\n",
    "    if type(x) in (int, float): # allora y è str \n",
    "        return True\n",
    "    else: # x non intero allora x è str allora y è numero\n",
    "        return False"
   ]
  },
  {
   "cell_type": "code",
   "execution_count": 2,
   "id": "b2838f46",
   "metadata": {},
   "outputs": [],
   "source": [
    "def bubble_sort( a, cmp_func = cmp_val ):\n",
    "    '''\n",
    "    pre: a è una lista ;\n",
    "        cmp_func restituisce l'esito del confronto tra due elementi di a ovvero\n",
    "        restituisce True se e solo se il primo precede il secondo\n",
    "    ordina la lista dall'elemento più piccolo a quello più grande rispetto la funzione\n",
    "        di confronto cmp_func\n",
    "    '''\n",
    "    n = len(a)\n",
    "    ordinata = False\n",
    "    num_scansioni = 0 # numero di scansioni (esecuzioni for) già eseguite\n",
    "    while not ordinata:\n",
    "        ordinata = True\n",
    "        for i in range(n-1-num_scansioni):\n",
    "            # confrontiamo l'elemento in posizione i e i+1\n",
    "            if not cmp_func(a[i], a[i+1]) :\n",
    "                # scambio gli elementi, non posso dire che la lista è ordinata\n",
    "                a[i], a[i+1] = a[i+1], a[i]\n",
    "                ordinata = False\n",
    "        num_scansioni += 1"
   ]
  },
  {
   "cell_type": "code",
   "execution_count": 3,
   "id": "a0ccb814",
   "metadata": {},
   "outputs": [
    {
     "name": "stdout",
     "output_type": "stream",
     "text": [
      "[0, 2, 3.14, 6, 'tre', 'uno', 'zero', 'novantanove']\n"
     ]
    }
   ],
   "source": [
    "a = [6, 'zero', 'novantanove', 2, 'tre', 0, 'uno', 3.14]\n",
    "bubble_sort(a, cmp_val_strlen)\n",
    "print(a)"
   ]
  },
  {
   "cell_type": "code",
   "execution_count": 4,
   "id": "29f36000",
   "metadata": {},
   "outputs": [
    {
     "name": "stdout",
     "output_type": "stream",
     "text": [
      "[1, 2, 2.71, 3, 8]\n"
     ]
    }
   ],
   "source": [
    "a = [3,2,1,2.71,8]\n",
    "bubble_sort( a )\n",
    "print(a)"
   ]
  },
  {
   "cell_type": "markdown",
   "id": "9d5f768a",
   "metadata": {},
   "source": [
    "## Funzioni anonime"
   ]
  },
  {
   "cell_type": "code",
   "execution_count": 5,
   "id": "24f5f885",
   "metadata": {},
   "outputs": [],
   "source": [
    "r = (lambda x, y: x+y+1)(1, 6)"
   ]
  },
  {
   "cell_type": "code",
   "execution_count": 6,
   "id": "3c76ff04",
   "metadata": {},
   "outputs": [
    {
     "name": "stdout",
     "output_type": "stream",
     "text": [
      "8\n"
     ]
    }
   ],
   "source": [
    "print(r)"
   ]
  },
  {
   "cell_type": "code",
   "execution_count": 7,
   "id": "b2afd708",
   "metadata": {},
   "outputs": [],
   "source": [
    "def bubble_sort( a, cmp_func = lambda x, y: x<=y ):\n",
    "    '''\n",
    "    pre: a è una lista ;\n",
    "        cmp_func restituisce l'esito del confronto tra due elementi di a ovvero\n",
    "        restituisce True se e solo se il primo precede il secondo\n",
    "    ordina la lista dall'elemento più piccolo a quello più grande\n",
    "    '''\n",
    "    n = len(a)\n",
    "    ordinata = False\n",
    "    num_scansioni = 0 # numero di scansioni (esecuzioni for) già eseguite\n",
    "    while not ordinata:\n",
    "        ordinata = True\n",
    "        for i in range(n-1-num_scansioni):\n",
    "            # confrontiamo l'elemento in posizione i e i+1\n",
    "            if not cmp_func(a[i], a[i+1]) :\n",
    "                # scambio gli elementi, non posso dire che la lista è ordinata\n",
    "                a[i], a[i+1] = a[i+1], a[i]\n",
    "                ordinata = False\n",
    "        num_scansioni += 1"
   ]
  },
  {
   "cell_type": "code",
   "execution_count": 8,
   "id": "1ef01129",
   "metadata": {},
   "outputs": [
    {
     "name": "stdout",
     "output_type": "stream",
     "text": [
      "[1, 2, 2.71, 3, 8]\n"
     ]
    }
   ],
   "source": [
    "a = [3,2,1,2.71,8]\n",
    "bubble_sort( a )\n",
    "print(a)"
   ]
  },
  {
   "cell_type": "markdown",
   "id": "37a83e7f",
   "metadata": {},
   "source": [
    "### Bubble-sort con *key*-function"
   ]
  },
  {
   "cell_type": "markdown",
   "id": "b91c8798",
   "metadata": {},
   "source": [
    "La funzione *k* è una funzione unaria sugli elementi della lista. Il confronto avviene sui valori restituiti da *k*."
   ]
  },
  {
   "cell_type": "code",
   "execution_count": 22,
   "id": "27e85f18",
   "metadata": {},
   "outputs": [],
   "source": [
    "def bubble_sort( a, k = lambda x: x, reverse = False):\n",
    "    '''\n",
    "    pre: a è una lista\n",
    "    ordina gli elementi della lista in modo crescente rispetto ai valodi restituiti \n",
    "        dalla funzione k. Ovvero dopo l'esecuzione della funzine se\n",
    "        a = [a_0, a_1,... a_n] allora k(a_i) <= k(a_i+1) per tutti gli i.\n",
    "        Di default k è la funzione identità \n",
    "    '''\n",
    "    s = 1 if reverse == False else -1\n",
    "    \n",
    "    n = len(a)\n",
    "    ordinata = False\n",
    "    num_scansioni = 0 # numero di scansioni (esecuzioni for) già eseguite\n",
    "    while not ordinata:\n",
    "        ordinata = True\n",
    "        for i in range(n-1-num_scansioni): # ad ogni iterazione il numero di coppie da\n",
    "                                            # analizzare diminuisce di 1\n",
    "            # confrontiamo l'elemento in posizione i e i+1\n",
    "            if s*k(a[i]) > s*k(a[i+1]):\n",
    "                # scambio gli elementi, non posso dire che la lista è ordinata\n",
    "                a[i], a[i+1] = a[i+1], a[i]\n",
    "                ordinata = False\n",
    "        num_scansioni += 1"
   ]
  },
  {
   "cell_type": "code",
   "execution_count": 25,
   "id": "36133118",
   "metadata": {},
   "outputs": [
    {
     "name": "stdout",
     "output_type": "stream",
     "text": [
      "['quattro', 'zero', 'uno', 'due', 'tre']\n"
     ]
    }
   ],
   "source": [
    "a = ['zero', 'uno', 'due', 'tre', 'quattro']\n",
    "bubble_sort(a, k = len, reverse = True) # ordinamento per lunghezze crescenti\n",
    "print(a)"
   ]
  },
  {
   "cell_type": "code",
   "execution_count": 24,
   "id": "e7690338",
   "metadata": {},
   "outputs": [
    {
     "name": "stdout",
     "output_type": "stream",
     "text": [
      "[0, 1, 2.71, 3, 4]\n"
     ]
    }
   ],
   "source": [
    "a = [4,3,1,0,2.71]\n",
    "bubble_sort(a) # ordinamento per valori crescenti\n",
    "print(a)"
   ]
  },
  {
   "cell_type": "markdown",
   "id": "440a272a",
   "metadata": {},
   "source": [
    "#### Confronto tra sequenze"
   ]
  },
  {
   "cell_type": "code",
   "execution_count": 12,
   "id": "92bf2af9",
   "metadata": {},
   "outputs": [
    {
     "data": {
      "text/plain": [
       "True"
      ]
     },
     "execution_count": 12,
     "metadata": {},
     "output_type": "execute_result"
    }
   ],
   "source": [
    "( 1, 100 ) < (2, 3 )"
   ]
  },
  {
   "cell_type": "code",
   "execution_count": 13,
   "id": "d33dd331",
   "metadata": {},
   "outputs": [
    {
     "data": {
      "text/plain": [
       "False"
      ]
     },
     "execution_count": 13,
     "metadata": {},
     "output_type": "execute_result"
    }
   ],
   "source": [
    "(2, 100) < (2, 3)"
   ]
  },
  {
   "cell_type": "code",
   "execution_count": 14,
   "id": "ea51fefb",
   "metadata": {},
   "outputs": [
    {
     "data": {
      "text/plain": [
       "False"
      ]
     },
     "execution_count": 14,
     "metadata": {},
     "output_type": "execute_result"
    }
   ],
   "source": [
    "(0, 1) < (0, 1)"
   ]
  },
  {
   "cell_type": "code",
   "execution_count": 15,
   "id": "9816ee44",
   "metadata": {},
   "outputs": [
    {
     "data": {
      "text/plain": [
       "True"
      ]
     },
     "execution_count": 15,
     "metadata": {},
     "output_type": "execute_result"
    }
   ],
   "source": [
    "(0, 1) <= (0, 1)"
   ]
  },
  {
   "cell_type": "code",
   "execution_count": 16,
   "id": "edb183ca",
   "metadata": {},
   "outputs": [
    {
     "data": {
      "text/plain": [
       "True"
      ]
     },
     "execution_count": 16,
     "metadata": {},
     "output_type": "execute_result"
    }
   ],
   "source": [
    "(2, 9, 0) < (2, 9, 1)"
   ]
  },
  {
   "cell_type": "code",
   "execution_count": 17,
   "id": "c9b6f7cb",
   "metadata": {},
   "outputs": [
    {
     "data": {
      "text/plain": [
       "True"
      ]
     },
     "execution_count": 17,
     "metadata": {},
     "output_type": "execute_result"
    }
   ],
   "source": [
    "(1, 2) < (1, 2, 1, 1)"
   ]
  },
  {
   "cell_type": "code",
   "execution_count": 18,
   "id": "1054f416",
   "metadata": {},
   "outputs": [
    {
     "data": {
      "text/plain": [
       "True"
      ]
     },
     "execution_count": 18,
     "metadata": {},
     "output_type": "execute_result"
    }
   ],
   "source": [
    "[1, 2] < [2, 1]"
   ]
  },
  {
   "cell_type": "code",
   "execution_count": null,
   "id": "569da1a9",
   "metadata": {},
   "outputs": [],
   "source": []
  }
 ],
 "metadata": {
  "kernelspec": {
   "display_name": "Python 3",
   "language": "python",
   "name": "python3"
  },
  "language_info": {
   "codemirror_mode": {
    "name": "ipython",
    "version": 3
   },
   "file_extension": ".py",
   "mimetype": "text/x-python",
   "name": "python",
   "nbconvert_exporter": "python",
   "pygments_lexer": "ipython3",
   "version": "3.9.7"
  }
 },
 "nbformat": 4,
 "nbformat_minor": 5
}
